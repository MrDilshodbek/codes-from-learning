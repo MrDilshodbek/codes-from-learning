{
  "cells": [
    {
      "cell_type": "markdown",
      "metadata": {
        "id": "KwRAjm2xHioH"
      },
      "source": [
        "# 05-DARS. STRING (MATN)\n",
        "STRING ma'lumot turi va uning ustida amallar"
      ]
    },
    {
      "cell_type": "markdown",
      "metadata": {
        "id": "ejMP076VHioJ"
      },
      "source": [
        "![](https://gblobscdn.gitbook.com/assets%2F-MGbkqs1tROquIT6oqUs%2F-Mc-5yGQPZTBaGoehQdL%2F-Mc-7xpq4Puu3KEjmT0R%2FSD_YT_TG_logo_mini.png?alt=media&token=929fe67b-ec12-4f63-b33e-e9c5e3d8ad09)\n",
        "\n",
        "#  STRING VA UNICODE"
      ]
    },
    {
      "cell_type": "markdown",
      "metadata": {
        "id": "e3qnyfM6HioJ"
      },
      "source": [
        "**STRING** (matn) — Pythondagi eng mashxur ma'lumot turlaridan biri. Avvalgi darsda ko'rganimizdek, o'zgaruvchiga matn yuklash uchun matn qo'shtirnoq (`\" \"`) yoki birtirnoq (`' '`) ichida yozilishi kerak."
      ]
    },
    {
      "cell_type": "code",
      "execution_count": null,
      "metadata": {
        "id": "62LhERxYHioK"
      },
      "outputs": [],
      "source": [
        "shahar = \"Қўқон\"\n",
        "viloyat = 'Фарғона'"
      ]
    },
    {
      "cell_type": "markdown",
      "metadata": {
        "id": "kSF1mC98HioL"
      },
      "source": [
        "Pythonda matnlar [Unicode](https://unicode-table.com/en/) jadvalidagi istalgan belgilaridan iborat bo'lishi mumkin (jumladan o'zbek, arab, hind, xitoy alifbosidagi harflar yoki turli emoji-smayliklar)."
      ]
    },
    {
      "cell_type": "code",
      "execution_count": null,
      "metadata": {
        "scrolled": true,
        "id": "GFIp7h3eHioL",
        "outputId": "d1b17903-e827-4098-ae61-81b3ca300a35"
      },
      "outputs": [
        {
          "name": "stdout",
          "output_type": "stream",
          "text": [
            "Men yangi 📱 oldim\n"
          ]
        }
      ],
      "source": [
        "matn = \"Men yangi 📱 oldim\"\n",
        "print(matn)"
      ]
    },
    {
      "cell_type": "markdown",
      "metadata": {
        "id": "Oexia-jhHioM"
      },
      "source": [
        "![Unicode jadval](https://gblobscdn.gitbook.com/assets%2F-MGbkqs1tROquIT6oqUs%2F-MLjUEbNQbWqMBCY1uql%2F-MLjVgUODxYRloFHWptm%2Fimage.png?alt=media&token=6e6eaef4-4958-479f-9622-523110678e8c)"
      ]
    },
    {
      "cell_type": "markdown",
      "metadata": {
        "id": "e9v80SqSHioM"
      },
      "source": [
        "# STRING USTIDA AMALLAR"
      ]
    },
    {
      "cell_type": "markdown",
      "metadata": {
        "id": "YwUtYabmHioN"
      },
      "source": [
        "## Matnlarni qo'shish operatori (+)"
      ]
    },
    {
      "cell_type": "markdown",
      "metadata": {
        "id": "XOs-ezI0HioN"
      },
      "source": [
        "Matnlarni qo'shish uchun + operatoridan foydalanmiz:"
      ]
    },
    {
      "cell_type": "code",
      "execution_count": null,
      "metadata": {
        "id": "MfC6P3--HioO",
        "outputId": "52fde1b7-117a-47ce-bd4d-8dd40ecd9f52"
      },
      "outputs": [
        {
          "name": "stdout",
          "output_type": "stream",
          "text": [
            "Mening ismim Ahmad\n"
          ]
        }
      ],
      "source": [
        "ism = 'Ahmad'\n",
        "print(\"Mening ismim \" + ism)"
      ]
    },
    {
      "cell_type": "code",
      "execution_count": null,
      "metadata": {
        "scrolled": true,
        "id": "KTonP7wmHioO",
        "outputId": "a93bc4d7-552a-4797-8798-591102fcbc66"
      },
      "outputs": [
        {
          "name": "stdout",
          "output_type": "stream",
          "text": [
            "AhadQayum\n"
          ]
        }
      ],
      "source": [
        "ism = 'Ahad'\n",
        "familiya = 'Qayum'\n",
        "print(ism + familiya)"
      ]
    },
    {
      "cell_type": "markdown",
      "metadata": {
        "id": "NIF8Q8trHioP"
      },
      "source": [
        "Yuqoridagi kodda ism va familiya orasiga bo'shliq belgisini qo'shmaganimiz uchun ikki matn qo'shilib yozildi. Buni to'g'rilash uchun, 3-qatorni quyidagicha yozamiz:"
      ]
    },
    {
      "cell_type": "code",
      "execution_count": null,
      "metadata": {
        "id": "8MXavASLHioP",
        "outputId": "bacfcff7-dce6-4e8f-df69-221f221cfd46"
      },
      "outputs": [
        {
          "name": "stdout",
          "output_type": "stream",
          "text": [
            "Ahad Qayum\n"
          ]
        }
      ],
      "source": [
        "ism = 'Ahad'\n",
        "familiya = 'Qayum'\n",
        "print(ism + ' ' + familiya) # ikki o'zgaruvchi orasiga bo'sh joy qo'shamiz"
      ]
    },
    {
      "cell_type": "markdown",
      "metadata": {
        "id": "2w578RdnHioP"
      },
      "source": [
        "## f-string"
      ]
    },
    {
      "cell_type": "markdown",
      "metadata": {
        "id": "BUb8p_4PHioP"
      },
      "source": [
        "Ikki (va undan ko'p) matn ko'rinishidagi o'zgaruvchilarni birlashtirish uchun f-string usulidan  `f\"{matn1} {matn2}\"` ham foydalansak bo'ladi:"
      ]
    },
    {
      "cell_type": "code",
      "execution_count": null,
      "metadata": {
        "id": "Dfm1tJ8QHioP",
        "outputId": "fb792d30-d2d9-4a2e-f902-eddb8afc9687"
      },
      "outputs": [
        {
          "name": "stdout",
          "output_type": "stream",
          "text": [
            "Ahad Qayum\n"
          ]
        }
      ],
      "source": [
        "ism = \"Ahad\"\n",
        "familiya = 'Qayum'\n",
        "ism_sharif = f\"{ism} {familiya}\"\n",
        "print(ism_sharif)"
      ]
    },
    {
      "cell_type": "markdown",
      "metadata": {
        "id": "yARo_qHYHioQ"
      },
      "source": [
        "Bu usul yordamida uzun matnlarni ham yasash mumkin:"
      ]
    },
    {
      "cell_type": "code",
      "execution_count": null,
      "metadata": {
        "id": "F7Gzl-ZwHioQ",
        "outputId": "12f12c90-3ab3-485d-b673-91c49d868e72"
      },
      "outputs": [
        {
          "name": "stdout",
          "output_type": "stream",
          "text": [
            "Salom, mening ismim Bond. James Bond!\n"
          ]
        }
      ],
      "source": [
        "ism = \"James\"\n",
        "familiya = 'Bond'\n",
        "print(f\"Salom, mening ismim {familiya}. {ism} {familiya}!\")"
      ]
    },
    {
      "cell_type": "markdown",
      "metadata": {
        "id": "uQXL4b1CHioQ"
      },
      "source": [
        "## Maxsus belgilar"
      ]
    },
    {
      "cell_type": "markdown",
      "metadata": {
        "id": "z0U4uRz0HioQ"
      },
      "source": [
        "Matnga bo'shliq qo'shish uchun `\\t` belgisidan, yangi qatordan boshlash uchun `\\n` belgisidan foydalanamiz:"
      ]
    },
    {
      "cell_type": "code",
      "execution_count": null,
      "metadata": {
        "id": "YgZXSEwJHioQ",
        "outputId": "9e3a6c93-1a64-4571-8fd5-eaa36e92b834"
      },
      "outputs": [
        {
          "name": "stdout",
          "output_type": "stream",
          "text": [
            "Hello World!\n",
            "Hello \tWorld!\n",
            "Hello \n",
            "World!\n"
          ]
        }
      ],
      "source": [
        "print('Hello World!')\n",
        "print('Hello \\tWorld!')\n",
        "print('Hello \\nWorld!')"
      ]
    },
    {
      "cell_type": "markdown",
      "metadata": {
        "id": "4naa0PkTHioQ"
      },
      "source": [
        "# STRING METODLARI"
      ]
    },
    {
      "cell_type": "markdown",
      "metadata": {
        "id": "hnwjRfT8HioR"
      },
      "source": [
        "Pythonda string ustida amalga oshirish mumkin bo'lgan tayyor amallar to'plami mavjud. Bunday amallar to'plami **metodlar** deb ataladi."
      ]
    },
    {
      "cell_type": "markdown",
      "metadata": {
        "id": "l3OJKK6DHioR"
      },
      "source": [
        "Metodlarni qo'llash uchun metod nomi matndan so'ng `.metod_nomi()`\n",
        " ko'rinishida yoziladi. Keling shunday metodlarning ba'zilari bilan tanishaylik."
      ]
    },
    {
      "cell_type": "markdown",
      "metadata": {
        "id": "XYhqiI8AHioR"
      },
      "source": [
        "## `upper()` va `lower()` metodlari"
      ]
    },
    {
      "cell_type": "markdown",
      "metadata": {
        "id": "lyUuflBEHioR"
      },
      "source": [
        "`upper()` metodi matndagi har bir harfni katta harfga o'zgartiradi."
      ]
    },
    {
      "cell_type": "code",
      "execution_count": null,
      "metadata": {
        "id": "C7BSc2a3HioR",
        "outputId": "0f7ecf21-0c56-4c06-fd59-fd208afb7073"
      },
      "outputs": [
        {
          "name": "stdout",
          "output_type": "stream",
          "text": [
            "AHAD QAYUM\n"
          ]
        }
      ],
      "source": [
        "ism = 'Ahad'\n",
        "familiya = 'Qayum'\n",
        "ism_sharif = f\"{ism} {familiya}\"\n",
        "print(ism_sharif.upper())"
      ]
    },
    {
      "cell_type": "markdown",
      "metadata": {
        "id": "YstlfXKYHioR"
      },
      "source": [
        "`lower()` metodi esa aksincha, har bir harfni kichik harfga o'zgartiradi."
      ]
    },
    {
      "cell_type": "code",
      "execution_count": null,
      "metadata": {
        "id": "gVxuPg6WHioS",
        "outputId": "20470de1-455b-4276-addd-653590e8fa45"
      },
      "outputs": [
        {
          "name": "stdout",
          "output_type": "stream",
          "text": [
            "ahad qayum\n"
          ]
        }
      ],
      "source": [
        "ism = 'Ahad'\n",
        "familiya = 'Qayum'\n",
        "ism_sharif = f\"{ism} {familiya}\"\n",
        "print(ism_sharif.lower())"
      ]
    },
    {
      "cell_type": "markdown",
      "metadata": {
        "id": "39Vme10mHioS"
      },
      "source": [
        "## `title()` va `capitalize()` metodlari"
      ]
    },
    {
      "cell_type": "markdown",
      "metadata": {
        "id": "pOqtTVZeHioS"
      },
      "source": [
        "`title()` metodi matndagi har bir so'zning birinchi harfini katta harf bilan yozadi."
      ]
    },
    {
      "cell_type": "code",
      "execution_count": null,
      "metadata": {
        "id": "wAN-XAQPHioS",
        "outputId": "d7a5643c-ef54-474d-bcef-1ba2e3bd8e35"
      },
      "outputs": [
        {
          "name": "stdout",
          "output_type": "stream",
          "text": [
            "James Bond\n"
          ]
        }
      ],
      "source": [
        "ism_sharif = 'james bond'\n",
        "print(ism_sharif.title())"
      ]
    },
    {
      "cell_type": "markdown",
      "metadata": {
        "id": "VLazETxuHioT"
      },
      "source": [
        "`capitalize()` esa faqatgina eng birinchi so'zning birinchi harfini katta bilan yozadi."
      ]
    },
    {
      "cell_type": "code",
      "execution_count": null,
      "metadata": {
        "id": "1m4dUjwsHioT",
        "outputId": "a9468ce6-62b4-4e0a-f8ed-62d95906c8a0"
      },
      "outputs": [
        {
          "name": "stdout",
          "output_type": "stream",
          "text": [
            "James bond\n"
          ]
        }
      ],
      "source": [
        "ism_sharif = 'james bond'\n",
        "print(ism_sharif.capitalize())"
      ]
    },
    {
      "cell_type": "markdown",
      "metadata": {
        "id": "rPn4OiFfHioT"
      },
      "source": [
        "Metodlarni faqat o'zgaruvchilarga emas, balki to'g'ridan-to'g'ri matnga ham qo'llash mumkin (aslida o'zgaruvchi ham matnning (yoki boshqa ma'lumotning) manzili xolos)"
      ]
    },
    {
      "cell_type": "code",
      "execution_count": null,
      "metadata": {
        "id": "zDn9PkZmHioT",
        "outputId": "38d13d5b-5c61-4617-a9d1-f0601c8176c7"
      },
      "outputs": [
        {
          "name": "stdout",
          "output_type": "stream",
          "text": [
            "JAMES BOND\n"
          ]
        }
      ],
      "source": [
        "print('james bond'.upper())"
      ]
    },
    {
      "cell_type": "markdown",
      "metadata": {
        "id": "w8xaSo2tHioU"
      },
      "source": [
        "## `strip()`, `rstrip()` va `lstrip()` metodlari"
      ]
    },
    {
      "cell_type": "markdown",
      "metadata": {
        "id": "wlgD7awcHioU"
      },
      "source": [
        "Bu metodlar matnning boshi va oxiridagi bo'sh joylarni olib tashlaydi.\n",
        "\n",
        "- `lstrip()` — matn boshidagi bo'shliqni,\n",
        "- `rstrip()` – matn oxiridagi bo'shliqni,\n",
        "- `strip()` — matn boshi va oxiridagi bo'shliqlarni olib tashlaydi"
      ]
    },
    {
      "cell_type": "code",
      "execution_count": null,
      "metadata": {
        "id": "m0x-uQqBHiod",
        "outputId": "e6a241a2-6537-44ad-cd25-1cbeb4bb556c"
      },
      "outputs": [
        {
          "name": "stdout",
          "output_type": "stream",
          "text": [
            "Men olma      yaxshi ko'raman\n",
            "Men      olma yaxshi ko'raman\n",
            "Men olma yaxshi ko'raman\n",
            "Men      olma      yaxshi ko'raman\n"
          ]
        }
      ],
      "source": [
        "meva = \"     olma     \"\n",
        "print(\"Men \" + meva.lstrip() + \" yaxshi ko'raman\")\n",
        "print(\"Men \" + meva.rstrip() + \" yaxshi ko'raman\")\n",
        "print(\"Men \" + meva.strip() + \" yaxshi ko'raman\")\n",
        "print(\"Men \" + meva + \" yaxshi ko'raman\")"
      ]
    },
    {
      "cell_type": "markdown",
      "metadata": {
        "id": "ZxgdrAanHiod"
      },
      "source": [
        "Matnlar bilan ishlaydigan metodlar ko'p. Ularning ba'zilari bilan kelajakda yana tanishamiz, to'liq ro'yhatni esa quyidagi [sahifada](https://www.w3schools.com/python/python_ref_string.asp) ko'rishingiz mumkin."
      ]
    },
    {
      "cell_type": "markdown",
      "metadata": {
        "id": "jv2FuQfiHiod"
      },
      "source": [
        "> **Metodlar o'zgaruvchi ichidagi asl matnni o'zgartirmaydi!**"
      ]
    },
    {
      "cell_type": "markdown",
      "metadata": {
        "id": "8JErJdyqHioe"
      },
      "source": [
        "# INPUT — FOYDALANUVCHI BILAN MULOQOT"
      ]
    },
    {
      "cell_type": "markdown",
      "metadata": {
        "id": "YNGBIlRfHioe"
      },
      "source": [
        "Shu paytgacha biz o'zgaruvchilarning qiymatini dasturning ichida berayotgan edik. Keling endi qiymatni o'zimiz emas, balki dastur foydalanuvchilariga kiritish imkonini beramiz."
      ]
    },
    {
      "cell_type": "markdown",
      "metadata": {
        "id": "149OeKydHioe"
      },
      "source": [
        "Buning uchun `input()` funktsyasidan foydalanamiz."
      ]
    },
    {
      "cell_type": "code",
      "execution_count": null,
      "metadata": {
        "id": "ofgQWI5-Hioe",
        "outputId": "d3af6de9-54dc-44b7-84ca-310a6d719698"
      },
      "outputs": [
        {
          "name": "stdout",
          "output_type": "stream",
          "text": [
            "Ismingiz nima?anvar\n",
            "Assalom alaykum, anvar\n"
          ]
        }
      ],
      "source": [
        "ism = input(\"Ismingiz nima?\")\n",
        "print(\"Assalom alaykum, \" + ism)"
      ]
    },
    {
      "cell_type": "markdown",
      "metadata": {
        "id": "4FJ8dUP1Hioe"
      },
      "source": [
        "Yuqoridagi dastur, avval 1-qatorda foydalanuvchining ismini so'raydi. Foydalanuvchi ismini kiritib, Enter tugmasini bosgach, foydalanuvchi kiritgan matnism degan o'zgaruvchiga yuklanadi va dasturining 2-qatori bajaradi:"
      ]
    },
    {
      "cell_type": "markdown",
      "metadata": {
        "id": "3E1k0oCAHioe"
      },
      "source": [
        "Keling yuqoridagi kod va uning natijasini chiroyliroq ko'rinishga keltiramiz."
      ]
    },
    {
      "cell_type": "code",
      "execution_count": null,
      "metadata": {
        "id": "gUtqYcbcHioe"
      },
      "outputs": [],
      "source": [
        "ism = input(\"Ismingiz nima?\\n>>>\") # Foydalanuvchi ismini yangi qatordan kiritadi\n",
        "print(\"Assalom alaykum, \" + ism.title())"
      ]
    },
    {
      "cell_type": "markdown",
      "metadata": {
        "id": "3Qs8XkY2Hiof"
      },
      "source": [
        "![Foydalanuvchidan qiymat olish](https://gblobscdn.gitbook.com/assets%2F-MGbkqs1tROquIT6oqUs%2F-MLg_Rlt3ghgz7tHHhmJ%2F-MLgalhJF6uRE0GABSmk%2Finput.gif?alt=media&token=9a2da927-7f2a-4094-a1a1-6b64dddc4b00)"
      ]
    },
    {
      "cell_type": "markdown",
      "metadata": {
        "id": "7NLiQZtZHiof"
      },
      "source": [
        "# AMALIYOT"
      ]
    },
    {
      "cell_type": "code",
      "source": [
        "kocha=\"Bog'bon\"\n",
        "mahalla=\"Sog'bon\"\n",
        "tuman=\"Bodomzor\"\n",
        "viloyat=\"Samarqand\"\n",
        "print(f\"{kocha} ko'chasi, {mahalla} mahallasi, {tuman} tumani, {viloyat} viloyati\")"
      ],
      "metadata": {
        "id": "qS6TrMhEH4ne",
        "outputId": "b743f07c-ae61-4f23-e6d2-37a408c268ff",
        "colab": {
          "base_uri": "https://localhost:8080/"
        }
      },
      "execution_count": 1,
      "outputs": [
        {
          "output_type": "stream",
          "name": "stdout",
          "text": [
            "Bog'bon ko'chasi, Sog'bon mahallasi, Bodomzor tumani, Samarqand viloyati\n"
          ]
        }
      ]
    },
    {
      "cell_type": "code",
      "source": [
        "kocha = input(\"Qaysi ko'chadansiz?\")\n",
        "mahalla = input(\"Qaysi mahalla?\")\n",
        "tuman = input(\"Qaysi tuman?\")\n",
        "viloyat = input(\"Qaysi viloyat?\")\n",
        "print(f\"{kocha} ko'chasi, {mahalla} mahallasi, {tuman} tumani, {viloyat} viloyati\")"
      ],
      "metadata": {
        "id": "-byrGnNmIZK8",
        "outputId": "666d8faa-0f04-42af-eca5-2ef9566aa98d",
        "colab": {
          "base_uri": "https://localhost:8080/"
        }
      },
      "execution_count": 2,
      "outputs": [
        {
          "output_type": "stream",
          "name": "stdout",
          "text": [
            "Qaysi ko'chadansiz?Bog'bon\n",
            "Qaysi mahalla?Sog'bon\n",
            "Qaysi tuman?termiz\n",
            "Qaysi viloyat?surxondaryo\n",
            "Bog'bon ko'chasi, Sog'bon mahallasi, termiz tumani, surxondaryo viloyati\n"
          ]
        }
      ]
    },
    {
      "cell_type": "code",
      "source": [
        "manzil = f\"{kocha} ko'chasi, {mahalla} mahallasi, {tuman} tumani, {viloyat} viloyati\"\n",
        "print(manzil.title())\n",
        "print(manzil.upper())\n",
        "print(manzil.lower())\n",
        "print(manzil.capitalize())"
      ],
      "metadata": {
        "id": "9B5P6bJYJR_t",
        "outputId": "848509c6-eff4-46ab-d3bb-c3ab17b2d5d1",
        "colab": {
          "base_uri": "https://localhost:8080/"
        }
      },
      "execution_count": 3,
      "outputs": [
        {
          "output_type": "stream",
          "name": "stdout",
          "text": [
            "Bog'Bon Ko'Chasi, Sog'Bon Mahallasi, Termiz Tumani, Surxondaryo Viloyati\n",
            "BOG'BON KO'CHASI, SOG'BON MAHALLASI, TERMIZ TUMANI, SURXONDARYO VILOYATI\n",
            "bog'bon ko'chasi, sog'bon mahallasi, termiz tumani, surxondaryo viloyati\n",
            "Bog'bon ko'chasi, sog'bon mahallasi, termiz tumani, surxondaryo viloyati\n"
          ]
        }
      ]
    },
    {
      "cell_type": "markdown",
      "metadata": {
        "id": "b3TKAMlQHiof"
      },
      "source": [
        "Quyidagi mashqlarni bajaring:\n",
        "- Quyidagi o'zgaruvchilarni yarating:\n",
        "   + `kocha=\"Bog'bon\"`\n",
        "   + `mahalla=\"Sog'bon\"`\n",
        "   + `tuman=\"Bodomzor\"`\n",
        "   + `viloyat=\"Samarqand\"`\n",
        "- Yuqoridagi o'zgaruvchilarni jamlab, quyidagi ko'rinishda konsolga chiqaring:\n",
        "   + `Bog'bon ko'chasi, Sog'bon mahallasi, Bodomzor tumani, Samarqand viloyati`\n",
        "- Yuqoridagi o'zgaruvchilarning (`kocha`, `mahalla`, `tuman`, `viloyat`) qiymatini foydalanuvchidan so'rang. Va avvalgi mashqni takrorlang.\n",
        "- Yuqoridagi matnni konsolga chiqarishda har bir verguldan keyin yangi qatordan yozing\n",
        "- Yuqoridagi matnni **f-string** yordamida, yangi, `manzil` deb nomlangan o'zgaruvchiga yuklang\n",
        "`manzilga` biz yuqorida o'rgangan `title()`, `upper()`, `lower()` , `capitalize()` metodlarini qo'llab ko'ring."
      ]
    },
    {
      "cell_type": "markdown",
      "metadata": {
        "id": "mRITUtNbHiof"
      },
      "source": [
        "# JAVOBLAR\n"
      ]
    },
    {
      "cell_type": "code",
      "execution_count": null,
      "metadata": {
        "id": "S1rVOaZGHiof"
      },
      "outputs": [],
      "source": [
        "kocha = \"Bog'bon\"\n",
        "mahalla = \"Sog'bon\"\n",
        "tuman = \"Bodomzor\"\n",
        "viloyat = \"Samarqand\""
      ]
    },
    {
      "cell_type": "code",
      "execution_count": null,
      "metadata": {
        "id": "53rQtAjzHiog",
        "outputId": "2cee63c7-6663-4830-ce75-b19629b5affd"
      },
      "outputs": [
        {
          "name": "stdout",
          "output_type": "stream",
          "text": [
            "Bog'bon ko'chasi, Sog'bon mahallasi, Bodomzor tumani, Samarqand viloyati\n"
          ]
        }
      ],
      "source": [
        "# Yuqoridagi o'zgaruvchilarni jamlab, quyidagi ko'rinishda konsolga chiqaring:\n",
        "print(kocha + \" ko'chasi, \" + mahalla + \" mahallasi, \" + \\\n",
        "      tuman + \" tumani, \" + viloyat + \" viloyati\")"
      ]
    },
    {
      "cell_type": "code",
      "execution_count": null,
      "metadata": {
        "id": "Khp459JjHiog",
        "outputId": "beb45ac3-5649-48cc-8fbb-8bb57893fdd7"
      },
      "outputs": [
        {
          "name": "stdout",
          "output_type": "stream",
          "text": [
            "Iltimos, quyidagi ma'lumotlarni kiriting:\n",
            "Ko'changiz: beruniy\n",
            "Mahallangiz: bodomzor\n",
            "Tumaningiz: olmazor\n",
            "Viloyatingiz: toshkent\n",
            "beruniy ko'chasi, bodomzor mahallasi, olmazor tumani, toshkent viloyati\n"
          ]
        }
      ],
      "source": [
        "#Yuqoridagi o'zgaruvchilarning qiymatini foydalanuvchidan so'rang.\n",
        "print(\"Iltimos, quyidagi ma'lumotlarni kiriting:\")\n",
        "kocha = input(\"Ko'changiz: \")\n",
        "mahalla = input(\"Mahallangiz: \")\n",
        "tuman = input(\"Tumaningiz: \")\n",
        "viloyat = input(\"Viloyatingiz: \")\n",
        "print(kocha + \" ko'chasi, \" + mahalla + \" mahallasi, \" + \\\n",
        "      tuman + \" tumani, \" + viloyat + \" viloyati\")"
      ]
    },
    {
      "cell_type": "code",
      "execution_count": null,
      "metadata": {
        "id": "jCk7gHCJHiog",
        "outputId": "f2ee7373-492f-4947-d089-6c33a4eb7b45"
      },
      "outputs": [
        {
          "name": "stdout",
          "output_type": "stream",
          "text": [
            "beruniy ko'chasi,\n",
            "bodomzor mahallasi,\n",
            "olmazor tumani,\n",
            "toshkent viloyati\n"
          ]
        }
      ],
      "source": [
        "# Yuqoridagi matnni konsolga chiqarishda har bir verguldan keyin yangi qatorga yozing\n",
        "print(kocha + \" ko'chasi,\\n\" + mahalla + \" mahallasi,\\n\" + \\\n",
        "      tuman + \" tumani,\\n\" + viloyat + \" viloyati\")"
      ]
    },
    {
      "cell_type": "code",
      "execution_count": null,
      "metadata": {
        "id": "R-p1Hu05Hiog",
        "outputId": "8bc0db19-a780-408d-f419-5ce8d6bc333b"
      },
      "outputs": [
        {
          "name": "stdout",
          "output_type": "stream",
          "text": [
            "beruniy ko'chasi, bodomzor mahallasi, olmazor tumani, toshkent viloyati\n"
          ]
        }
      ],
      "source": [
        "# Yuqoridagi o'zgaruvchilarni f-string yordamida, yangi manzil deb nomlangan o'zgaruvchiga yuklang\n",
        "manzil = f\"{kocha} ko'chasi, {mahalla} mahallasi, {tuman} tumani, {viloyat} viloyati\"\n",
        "print(manzil)"
      ]
    },
    {
      "cell_type": "code",
      "execution_count": null,
      "metadata": {
        "id": "bs5y6we6Hioh",
        "outputId": "3f8e595e-a1a0-4513-d5e9-42fe85353cbb"
      },
      "outputs": [
        {
          "name": "stdout",
          "output_type": "stream",
          "text": [
            "BERUNIY KO'CHASI, BODOMZOR MAHALLASI, OLMAZOR TUMANI, TOSHKENT VILOYATI\n",
            "beruniy ko'chasi, bodomzor mahallasi, olmazor tumani, toshkent viloyati\n",
            "Beruniy Ko'Chasi, Bodomzor Mahallasi, Olmazor Tumani, Toshkent Viloyati\n",
            "Beruniy ko'chasi, bodomzor mahallasi, olmazor tumani, toshkent viloyati\n"
          ]
        }
      ],
      "source": [
        "#manzil ga biz yuqorida o'rgangan metodlarni qo'llab ko'ring.\n",
        "print(manzil.upper())\n",
        "print(manzil.lower())\n",
        "print(manzil.title())\n",
        "print(manzil.capitalize())"
      ]
    }
  ],
  "metadata": {
    "language_info": {
      "name": "python"
    },
    "colab": {
      "provenance": []
    },
    "kernelspec": {
      "name": "python3",
      "display_name": "Python 3"
    }
  },
  "nbformat": 4,
  "nbformat_minor": 0
}