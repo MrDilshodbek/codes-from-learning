{
  "metadata": {
    "kernelspec": {
      "name": "python3",
      "display_name": "Python 3",
      "language": "python"
    },
    "language_info": {
      "name": "python",
      "version": "3.10.12",
      "mimetype": "text/x-python",
      "codemirror_mode": {
        "name": "ipython",
        "version": 3
      },
      "pygments_lexer": "ipython3",
      "nbconvert_exporter": "python",
      "file_extension": ".py"
    },
    "kaggle": {
      "accelerator": "none",
      "dataSources": [],
      "dockerImageVersionId": 30886,
      "isInternetEnabled": false,
      "language": "python",
      "sourceType": "notebook",
      "isGpuEnabled": false
    },
    "colab": {
      "provenance": []
    }
  },
  "nbformat_minor": 0,
  "nbformat": 4,
  "cells": [
    {
      "cell_type": "markdown",
      "source": [
        "# 10-DARS. `IF-ELSE`\n",
        "\n",
        "Dasturni tarmoqlashni o'rganamiz"
      ],
      "metadata": {
        "id": "4wG8Re8hJDOA"
      }
    },
    {
      "cell_type": "markdown",
      "source": [
        "![](https://gblobscdn.gitbook.com/assets%2F-MGbkqs1tROquIT6oqUs%2F-Mc-5yGQPZTBaGoehQdL%2F-Mc-7xpq4Puu3KEjmT0R%2FSD_YT_TG_logo_mini.png?alt=media&token=929fe67b-ec12-4f63-b33e-e9c5e3d8ad09)"
      ],
      "metadata": {
        "id": "uiRNK1HkJDOJ"
      }
    },
    {
      "cell_type": "markdown",
      "source": [
        "# TARMOQLANISH\n",
        "\n",
        "Shu vaqtgacha yozgan dasturlarimizga e'tibor bersangiz, dasturimiz yuqoridan pastga qarab qatorma-qator bajarilib keldi. Bu chiziqli dastur deyiladi. Voqelikda esa aksar dasturlar ma'lum bir shart bajarilishi (yoki bajarilmaganiga) ko'ra kodning bir qismidan boshqa qismiga \"sakrab\" o'tishi tabiiy hol. Dasturlashda bu **tarmoqlanish** deb ataladi.\n",
        "\n",
        "![](https://gblobscdn.gitbook.com/assets%2F-MGbkqs1tROquIT6oqUs%2F-MMYB3w5bqcxar0xuzi2%2F-MMcrT4AK37JNwfmXziF%2Ffig1.png?alt=media&token=176c0f12-d46f-43cd-a374-19c69f3caf3a)\n",
        "\n",
        "Ushbu darsimizda biz if operatori yordamida shunday shartlarni yozishni, tekshirishni va tekshiruv natijasiga ko'ra kodning turli qismlarini bajarishni o'rganamiz.\n",
        "\n",
        "# `if` OPERATORI\n",
        "**if** so'zi ingliz tilidan **\"agar\"** deb tarjima qilinadi va deyarli barcha dasturlash tillarida shartlarni yozish uchun foydalaniladi.\n",
        "\n",
        "Keling quyidagi misolni ko'ramiz. Bizda avtolar ro'yxati bor:"
      ],
      "metadata": {
        "id": "oByp9lwZJDOK"
      }
    },
    {
      "cell_type": "code",
      "source": [
        "avtolar = ['audi','bmw','volvo','kia','hyundai']"
      ],
      "metadata": {
        "id": "eD8yLmU3JDOL"
      },
      "outputs": [],
      "execution_count": null
    },
    {
      "cell_type": "markdown",
      "source": [
        "Biz ro'yxatdagi har bil elementni katta harf bilan konsolga chiqarmoqchimiz. Bunda istisno sifatida \"BMW\" mashinasi nomini hamma harflarini katta bilan chiqarishimiz kerak.\n",
        "\n",
        "Demak quyidagi kodni yozamiz:"
      ],
      "metadata": {
        "id": "sM33ziK6JDOO"
      }
    },
    {
      "cell_type": "code",
      "source": [
        "for avto in avtolar: # avtolar ichidadi har bir avto uchun ...\n",
        "    if avto == 'bmw':  # ... agar avto bmw ga teng bo'lsa ...\n",
        "        print(avto.upper()) # avto nomini hamma harflarini katta bilan yoz.\n",
        "    else: # aks holda ...\n",
        "        print(avto.title()) # avto nomini faqat birinchi harfini katta bilann yoz."
      ],
      "metadata": {
        "id": "zgyhOvoLJDOP"
      },
      "outputs": [],
      "execution_count": null
    },
    {
      "cell_type": "markdown",
      "source": [
        "Kodni tahlil qilaylik:\n",
        "- 1-qatorda biz for tsiklini boshladik: *avto ichidagi har bir avto uchun*.\n",
        "- 2-qatorda shart yozdik: agar avto `bmw` ga teng bo'lsa (bu yerda `==` belgisi tenglikni tekshirish belgisi hisoblanadi va **\"avto bmw ga tengmi?\"** deb o'qiladi).\n",
        "- 3-qator yuqoridagi shartning badani hisoblanadi va faqatgina shart bajarilgandagina ishga tushadi va avto nomini hamma harflarini katta bilan yozadi (`.upper()` metodi).\n",
        "- 4-qatorda yana bir yangi operator, `else` bilan tanishamiz. **\"Else\"** ingliz tilidan **\"aks holda\"** deb tarjima qilinadi va `if` sharti bajarilmaganda `else` qismi ichidagi kod bajariladi.\n",
        "- 5-qator esa `else` (aks holda, ya'ni 2- qatordagi shart bajarilmaganda) ishga tushadi va avto nomining faqat birinchi harfini katta bilan yozadi (`.title()` metodi)\n",
        "\n",
        "> **Diqqat!** Shart \"badani\" shartdan biroz o'ngga surib yoziladi (huddi for tsikli kabi). if/else dan keyin kelgan va o'ngga surib yozilgan har bir qator if/else shartining badani hisoblanadi.\n",
        "\n",
        "Yuoqridagi kodni bajaramiz, va natijani ko'ramiz:"
      ],
      "metadata": {
        "id": "54dhuHrrJDOQ"
      }
    },
    {
      "cell_type": "code",
      "source": [
        "avtolar = ['audi','bmw','volvo','kia','hyundai']\n",
        "for avto in avtolar: # avtolar ichidadi har bir avto uchun ...\n",
        "    if avto == 'bmw':  # ... agar avto bmw ga teng bo'lsa ...\n",
        "        print(avto.upper()) # avto nomini hamma harflarini katta bilan yoz.\n",
        "    else: # aks holda ...\n",
        "        print(avto.title()) # avto nomini faqat birinchi harfini katta bilan yoz."
      ],
      "metadata": {
        "trusted": true,
        "execution": {
          "iopub.status.busy": "2025-02-09T11:05:08.616817Z",
          "iopub.execute_input": "2025-02-09T11:05:08.617070Z",
          "iopub.status.idle": "2025-02-09T11:05:08.625211Z",
          "shell.execute_reply.started": "2025-02-09T11:05:08.617037Z",
          "shell.execute_reply": "2025-02-09T11:05:08.623836Z"
        },
        "id": "iIhpQfAgJDOQ",
        "outputId": "c1950243-8f8a-4efb-84b9-598305a9d255"
      },
      "outputs": [
        {
          "name": "stdout",
          "text": "Audi\nBMW\nVolvo\nKia\nDai\n",
          "output_type": "stream"
        }
      ],
      "execution_count": null
    },
    {
      "cell_type": "markdown",
      "source": [
        "# TRUE/FALSE\n",
        "Yuqorida shartni tekshirish uchun `==` operatoridan foydalandik. Bu operatorni oddiy tilga tarjima qilsak **\"tengmi?\"** degan ma'noni beradi.\n",
        "\n",
        "Agar shartning ikki tarafidagi qiymatlar teng bo'lsa ifoda `TRUE` qiymatini qaytaradi (\"True\" so'zi ingliz tilidan \"haqiqiy\" yoki \"to'g'ri\" deb tarjima qilinadi).\n",
        "\n",
        "Aksincha, qiymatlar tenglik qanoatlantirilmasa, ifoda `FALSE` qiymatini qaytaradi (\"False\" so'zini ingliz tilidan \"yolg'on\" deb tarjima qilsak bo'ladi).\n",
        "\n",
        "Quyidagi misollarga e'tibor bering. Biz `ism` degan o'zgaruvchi yaratdik, va unga `'Ali'` matnini yukladik. Keling endi `==` yordamida `ism` ning qiymatini tekshirib ko'ramiz:"
      ],
      "metadata": {
        "id": "gkeGUYQUJDOT"
      }
    },
    {
      "cell_type": "code",
      "source": [
        "ism='Ali'"
      ],
      "metadata": {
        "id": "1yqul1gBJDOT"
      },
      "outputs": [],
      "execution_count": null
    },
    {
      "cell_type": "code",
      "source": [
        "ism=='Ali'"
      ],
      "metadata": {
        "id": "LbKxYCygJDOV",
        "outputId": "52c0b001-34d2-407f-d2cf-c5fecba45fa3"
      },
      "outputs": [
        {
          "data": {
            "text/plain": [
              "True"
            ]
          },
          "execution_count": 8,
          "metadata": {},
          "output_type": "execute_result"
        }
      ],
      "execution_count": null
    },
    {
      "cell_type": "code",
      "source": [
        "ism=='Vali'"
      ],
      "metadata": {
        "id": "jN9nOATEJDOV",
        "outputId": "11d5fafa-463a-4d09-803b-24fc49afcce6"
      },
      "outputs": [
        {
          "data": {
            "text/plain": [
              "False"
            ]
          },
          "execution_count": 9,
          "metadata": {},
          "output_type": "execute_result"
        }
      ],
      "execution_count": null
    },
    {
      "cell_type": "markdown",
      "source": [
        "Ko'rib turganingizdek avval `ism=='Ali'` (ism 'Ali' ga tengmi?) deb so'raganimizda, ifoda `TRUE` (Ha) degan javobni qaytardi, keyin esa `ism=='Vali'` (ism 'Vali' ga tengmi?) deb so'raganimizda esa, ifoda `FALSE` (Yo'q) deb qiymat qaytardi.\n",
        "\n",
        "Demak, `if/else` bog'lamasida, `i`f ning badani ifoda `True` bo'lganda, `else` ning badani esa ifoda `False` bo'lganda bajariladi."
      ],
      "metadata": {
        "id": "0XSjEDdCJDOW"
      }
    },
    {
      "cell_type": "markdown",
      "source": [
        "# MATNLARNI SOLISHTIRISH"
      ],
      "metadata": {
        "id": "PknigPhbJDOX"
      }
    },
    {
      "cell_type": "markdown",
      "source": [
        "Aksar tizimlar foydalanuvchi kiritgan matnni ma'lum bir ko'rinishga keltirib oladi. Buning sababi, kompyuter uchun `'Ali'`, `'ALI'`, va `'ali'` bu uchta turli hil ism. Ularni solishtirish uchun esa bir ko'rinishga keltirib olish kerak.\n",
        "\n",
        "Tasavvur qiling siz yangi email manzil ochmoqchisiz, va o'zingizga yangi foydalanuvchi ismini tanlashingiz kerak. Kompyuter siz kiritgan foydalanuvchi ismini tizimdagi mavjud foydalanuvchilar bilan solishtiradi va agar ism band bo'lsa sizga boshqa ism tanlashni aytadi. Solishtirish jarayonida esa, siz tanlagan ismni kichik harflarga o'tkazib, boshqa ismlar bilan solishtiradi.\n",
        "\n",
        "![](https://gblobscdn.gitbook.com/assets%2F-MGbkqs1tROquIT6oqUs%2F-MMeP_WLpHkdzcxiw2zi%2F-MMeU64riTA_t65PqoXr%2Fimage.png?alt=media&token=67317e40-bfd0-4173-bd32-3c43d10f7a37)\n",
        "\n",
        "Yuqoridagi misolda, kimdur `anvar@yandex.ru` manzilini band qilgan, agarda men `'Anvar'`, yoki `'ANvar'`, yoki `'ANVAR'` deb login tanlasam ham, `anvar@yandex.ru` band bo'gani sababli men so'ragan loginlar rad qilinaveradi.\n",
        "\n",
        "Xo'sh, turli ko'rinishda yozilgan matnlarni qanday qilib solishtiramiz? Juda oddiy. Matnlarni solishtirishdan avval `.lower()` metodi yordamida kichik harflar ko'rinishiga keltirib olamiz:\n"
      ],
      "metadata": {
        "id": "UWCeak73JDOX"
      }
    },
    {
      "cell_type": "code",
      "source": [
        "ism = 'Ali'\n",
        "ism.lower() == 'ali'"
      ],
      "metadata": {
        "id": "8HH58s9BJDOX",
        "outputId": "0a03b30f-c2aa-4325-c226-bb200c416f6a"
      },
      "outputs": [
        {
          "data": {
            "text/plain": [
              "True"
            ]
          },
          "execution_count": 10,
          "metadata": {},
          "output_type": "execute_result"
        }
      ],
      "execution_count": null
    },
    {
      "cell_type": "markdown",
      "source": [
        "# QIYMATLARNING TENG EMASLIGINI TEKSHIRISH\n",
        "\n",
        "Agar ikki qiymatning teng emasligini tekshirish talab qilinsa, `!=` operatoridan foydalanilamiz."
      ],
      "metadata": {
        "id": "bYJjvZlSJDOY"
      }
    },
    {
      "cell_type": "code",
      "source": [
        "ism = input('Ismingiz nima?\\n>>>') # Foydalanuvchi ismini so'raymiz\n",
        "if ism.lower() != 'ali': # Agar ism Aliga teng bo'lmasa ...\n",
        "    print(f\"Uzr, {ism.title()} biz Alini kutayapmiz.\") # quyidagi xabar chiqadi\n",
        "else:\n",
        "    print(\"Salom, Ali\")"
      ],
      "metadata": {
        "id": "etxrbYSTJDOY",
        "outputId": "78415e2a-5859-431f-9336-07f5d12766b4"
      },
      "outputs": [
        {
          "name": "stdout",
          "output_type": "stream",
          "text": [
            "Ismingiz nima?\n",
            ">>>anvar\n",
            "Uzr, Anvar biz Alini kutayapmiz.\n"
          ]
        }
      ],
      "execution_count": null
    },
    {
      "cell_type": "markdown",
      "source": [
        "Demak yuqoridagi kodning 2-qatorida `ism` ichidagi qiymat `'ali'` ga teng bo'lmasa `\"Uzr, {ism} biz Alini kutyapmiz\"` degan xabarni chiqar dedik. Aks holda (`else`), `\"Salom, Ali\"` degan xabar chiqadi.\n",
        "\n",
        "> Shartlarda `else` qismi bo'lishi majburiy emas. Bunga keyingi bo'limlarda tushunarliroq misollar ko'ramiz."
      ],
      "metadata": {
        "id": "Ff6HW20jJDOY"
      }
    },
    {
      "cell_type": "markdown",
      "source": [
        "# SONLARNI SOLISHTIRISH\n",
        "\n",
        "Sonlarni solishtirishda yuqoridagi teng (`==`) va teng emas (`!=`) shartlariga qo'shimcha ravishda quyidagi mantiqiy shartlar ham qo'shiladi:\n",
        "\n",
        "- Kichik: `a<b`\n",
        "- Kichik yoki teng: `a<=b`\n",
        "- Katta: `a>b`\n",
        "- Katta yoki teng: `a>=b`"
      ],
      "metadata": {
        "id": "YiUac2vbJDOZ"
      }
    },
    {
      "cell_type": "code",
      "source": [
        "javob = float(input(\"12x6 nechiga teng?>>>\"))\n",
        "if javob!=72:\n",
        "    print(\"Javob xato!\")"
      ],
      "metadata": {
        "id": "ytwQ5WbFJDOZ",
        "outputId": "50270ce5-3b46-4341-b443-c9564edeb3cb"
      },
      "outputs": [
        {
          "name": "stdout",
          "output_type": "stream",
          "text": [
            "12x6 nechiga teng?>>>18\n",
            "Javob xato!\n"
          ]
        }
      ],
      "execution_count": null
    },
    {
      "cell_type": "code",
      "source": [
        "yosh = int(input(\"Yoshingiz nechida?>>>\"))\n",
        "if yosh>=18: # yosh 18 dan katta yoki teng bo'lsa\n",
        "    print('Xush kelibsiz!')\n",
        "else: # ask holda\n",
        "    print('Kirish mumkin emas!')"
      ],
      "metadata": {
        "id": "YMDoRTfcJDOa",
        "outputId": "a901ae3e-5500-42ef-88ff-7f0f7cf89f70"
      },
      "outputs": [
        {
          "name": "stdout",
          "output_type": "stream",
          "text": [
            "Yoshingiz nechida?>>>22\n",
            "Xush kelibsiz!\n"
          ]
        }
      ],
      "execution_count": null
    },
    {
      "cell_type": "code",
      "source": [
        "login = input(\"Yangi login tanlang:\")\n",
        "if len(login)<=5: # login uzunligini tekshiramiz\n",
        "    print(\"Login 5 harfdan ko'proq bo'lishi shart!\")"
      ],
      "metadata": {
        "id": "phZCo6LAJDOb",
        "outputId": "12a81322-950d-41d5-c556-46a73ed6c757"
      },
      "outputs": [
        {
          "name": "stdout",
          "output_type": "stream",
          "text": [
            "Yangi login tanlang:akmal\n",
            "Login 5 harfdan ko'proq bo'lishi shart!\n"
          ]
        }
      ],
      "execution_count": null
    },
    {
      "cell_type": "code",
      "source": [
        "yil = int(input(\"Tug'ilgan yilingizni kiriting:\"))\n",
        "if 2020-yil<18: # foydalanuvchining yoshini hisoblaymiz\n",
        "    print(f\"Yoshingiz {2020-yil}da ekan.\")\n",
        "    print(\"Kirish mumkin emas!\")\n",
        "else:\n",
        "    print(\"Xush kelibsiz!\")"
      ],
      "metadata": {
        "id": "Lu_zUq9kJDOb",
        "outputId": "d40a62e0-a3fe-47bf-a7a6-e40491f15392"
      },
      "outputs": [
        {
          "name": "stdout",
          "output_type": "stream",
          "text": [
            "Tug'ilgan yilingizni kiriting:2007\n",
            "Yoshingiz 13da ekan.\n",
            "Kirish mumkin emas!\n"
          ]
        }
      ],
      "execution_count": null
    },
    {
      "cell_type": "markdown",
      "source": [
        "# BIR QATOR if/else\n",
        "\n",
        "Qisqa kodlar uchun shart va uning badanini 1 qatorga jamlab yozishimiz ham mumkin:\n"
      ],
      "metadata": {
        "id": "DHjZEcn9JDOc"
      }
    },
    {
      "cell_type": "code",
      "source": [
        "yosh = int(input(\"Yoshingiz nechida?>>>\"))\n",
        "if yosh>65: print(\"Siz COVID-19 risk guruhida ekansiz\")"
      ],
      "metadata": {
        "id": "9rMCswaGJDOc",
        "outputId": "25f8b569-af91-48d7-a749-0205d4ad0431"
      },
      "outputs": [
        {
          "name": "stdout",
          "output_type": "stream",
          "text": [
            "Yoshingiz nechida?>>>66\n",
            "Siz COVID-19 risk guruhida ekansiz\n"
          ]
        }
      ],
      "execution_count": null
    },
    {
      "cell_type": "code",
      "source": [
        "x, y = 25, 50 # x=25 va y=50\n",
        "print(\"x>y\") if x>y else print(\"x<y\")"
      ],
      "metadata": {
        "id": "flcyY0iqJDOc",
        "outputId": "43f0d4ef-689a-4848-a041-ea626fd895b3"
      },
      "outputs": [
        {
          "name": "stdout",
          "output_type": "stream",
          "text": [
            "x<y\n"
          ]
        }
      ],
      "execution_count": null
    },
    {
      "cell_type": "code",
      "source": [
        "cars = ['toyota', 'mazda', 'hyundai', 'gm', 'kia']\n",
        "for car in cars:\n",
        "  if car == 'gm':\n",
        "    print(car.upper())\n",
        "  else :\n",
        "    print(car.title())"
      ],
      "metadata": {
        "id": "80PAN6MkJ0ZT",
        "outputId": "0654368d-509f-42b8-e4bd-2dd55db873f0",
        "colab": {
          "base_uri": "https://localhost:8080/"
        }
      },
      "execution_count": 1,
      "outputs": [
        {
          "output_type": "stream",
          "name": "stdout",
          "text": [
            "Toyota\n",
            "Mazda\n",
            "Hyundai\n",
            "GM\n",
            "Kia\n"
          ]
        }
      ]
    },
    {
      "cell_type": "code",
      "source": [
        "cars = ['toyota', 'mazda', 'hyundai', 'gm', 'kia']\n",
        "for car in cars:\n",
        "  if car != 'gm':\n",
        "    print(car.upper())\n",
        "  else :\n",
        "    print(car.title())"
      ],
      "metadata": {
        "id": "xIVPfViLKROU",
        "outputId": "24ff35cd-7eaa-4274-aeca-939b2dd78cbb",
        "colab": {
          "base_uri": "https://localhost:8080/"
        }
      },
      "execution_count": 10,
      "outputs": [
        {
          "output_type": "stream",
          "name": "stdout",
          "text": [
            "TOYOTA\n",
            "MAZDA\n",
            "HYUNDAI\n",
            "Gm\n",
            "KIA\n"
          ]
        }
      ]
    },
    {
      "cell_type": "code",
      "source": [
        "login = input(\"Ismingizni kiriting: \")\n",
        "print(login)\n",
        "for ism in login:\n",
        "  if ism == 'admin':\n",
        "    print(\"Xush kelibsiz, Admin. Foydalanuvchilar ro'yxatini ko'rasizmi?\")\n",
        "  else:\n",
        "    print(f\"Xush kelibsiz, {ism}\")\n",
        "\n"
      ],
      "metadata": {
        "id": "sROvGOgpKWvx",
        "outputId": "a373b50d-75c3-4aef-b751-7a576da0a006",
        "colab": {
          "base_uri": "https://localhost:8080/"
        }
      },
      "execution_count": 21,
      "outputs": [
        {
          "output_type": "stream",
          "name": "stdout",
          "text": [
            "Ismingizni kiriting: Dilshodbek\n",
            "Dilshodbek\n",
            "Xush kelibsiz, D\n",
            "Xush kelibsiz, i\n",
            "Xush kelibsiz, l\n",
            "Xush kelibsiz, s\n",
            "Xush kelibsiz, h\n",
            "Xush kelibsiz, o\n",
            "Xush kelibsiz, d\n",
            "Xush kelibsiz, b\n",
            "Xush kelibsiz, e\n",
            "Xush kelibsiz, k\n"
          ]
        }
      ]
    },
    {
      "cell_type": "code",
      "source": [
        "if login.lower() == 'admin':\n",
        "  print(\"Xush kelibsiz Admin, foydalanuvchilar ro'yxatini ko'rasizmi?\")\n",
        "else:\n",
        "  print(f\"Xush kelibsiz {login.title()}!\")"
      ],
      "metadata": {
        "id": "Y-8dCmmpPcSL",
        "outputId": "8d3eebd3-2f7d-4c04-8e22-0e7c152e90ea",
        "colab": {
          "base_uri": "https://localhost:8080/"
        }
      },
      "execution_count": 22,
      "outputs": [
        {
          "output_type": "stream",
          "name": "stdout",
          "text": [
            "Xush kelibsiz Dilshodbek!\n"
          ]
        }
      ]
    },
    {
      "cell_type": "code",
      "source": [
        "login = input(\"Ismingizni kiriting: \")\n",
        "if login.lower() == 'admin':\n",
        "  print(\"Xush kelibsiz Admin, foydalanuvchilar ro'yxatini ko'rasizmi?\")\n",
        "else:\n",
        "  print(f\"Xush kelibsiz {login.title()}!\")"
      ],
      "metadata": {
        "id": "pepcTzy0Pggl",
        "outputId": "59f41e5b-e6f5-4c51-f524-4e6404416917",
        "colab": {
          "base_uri": "https://localhost:8080/"
        }
      },
      "execution_count": 24,
      "outputs": [
        {
          "output_type": "stream",
          "name": "stdout",
          "text": [
            "Ismingizni kiriting: admin\n",
            "Xush kelibsiz Admin, foydalanuvchilar ro'yxatini ko'rasizmi?\n"
          ]
        }
      ]
    },
    {
      "cell_type": "code",
      "source": [
        "num1 = int(input(\"birinchi sonni kiriting: \"))\n",
        "num2 = int(input(\"ikkinchi sonni kiriting: \"))\n",
        "if num1==num2:\n",
        "  print(\"sonlar teng\")\n"
      ],
      "metadata": {
        "id": "ca4ZBgLOPsY6",
        "outputId": "3d06721a-9d15-43ad-bc46-354c4ad1786a",
        "colab": {
          "base_uri": "https://localhost:8080/"
        }
      },
      "execution_count": 26,
      "outputs": [
        {
          "output_type": "stream",
          "name": "stdout",
          "text": [
            "birinchi sonni kiriting: 4\n",
            "ikkinchi sonni kiriting: 4\n",
            "sonlar teng\n"
          ]
        }
      ]
    },
    {
      "cell_type": "code",
      "source": [
        "numero1 = int(input(\"istalgan sonni kiriting: \"))\n",
        "if numero1 < 0:\n",
        "  print(\"Manfiy son\")\n",
        "else:\n",
        "  print(\"Musbat son\")"
      ],
      "metadata": {
        "id": "p53rcPdkQZil",
        "outputId": "a3b5e3fe-39ef-4637-fe66-39f4fad78400",
        "colab": {
          "base_uri": "https://localhost:8080/"
        }
      },
      "execution_count": 30,
      "outputs": [
        {
          "output_type": "stream",
          "name": "stdout",
          "text": [
            "istalgan sonni kiriting: 5\n",
            "Musbat son\n"
          ]
        }
      ]
    },
    {
      "cell_type": "code",
      "source": [
        "numero1 = int(input(\"istalgan sonni kiriting: \"))\n",
        "if numero1 < 0:\n",
        "  print(\"Manfiy son\")\n",
        "else:\n",
        "  print(\"Musbat son\")"
      ],
      "metadata": {
        "id": "bNZa8VVoQw_e",
        "outputId": "77af6276-8231-4bcd-ca86-0f9dc069de51",
        "colab": {
          "base_uri": "https://localhost:8080/"
        }
      },
      "execution_count": 28,
      "outputs": [
        {
          "output_type": "stream",
          "name": "stdout",
          "text": [
            "istalgan sonni kiriting: -5\n",
            "Manfiy son\n"
          ]
        }
      ]
    },
    {
      "cell_type": "code",
      "source": [
        "numero2 = int(input(\"istalgan sonni kiriting: \"))\n",
        "if numero2 < 0:\n",
        "  print(\"Manfiy son bu, musbat kirit\")\n",
        "else:\n",
        "  numero3 = numero2**(1/2)\n",
        "  print(numero3)"
      ],
      "metadata": {
        "id": "NwunP0LuQ2Yx",
        "outputId": "387dbc9b-2d48-4357-9f5d-d1030231edb8",
        "colab": {
          "base_uri": "https://localhost:8080/"
        }
      },
      "execution_count": 35,
      "outputs": [
        {
          "output_type": "stream",
          "name": "stdout",
          "text": [
            "istalgan sonni kiriting: 5\n",
            "2.23606797749979\n"
          ]
        }
      ]
    },
    {
      "cell_type": "code",
      "source": [
        "numero2 = int(input(\"istalgan sonni kiriting: \"))\n",
        "if numero2 < 0:\n",
        "  print(\"Manfiy son bu, musbat kirit\")\n",
        "else:\n",
        "  numero3 = numero2**(1/2)\n",
        "  print(numero3)\n",
        ""
      ],
      "metadata": {
        "id": "_apwT4gISC7Q",
        "outputId": "6dd22365-1008-4da9-8161-2a960729d1ed",
        "colab": {
          "base_uri": "https://localhost:8080/"
        }
      },
      "execution_count": 36,
      "outputs": [
        {
          "output_type": "stream",
          "name": "stdout",
          "text": [
            "istalgan sonni kiriting: -5\n",
            "Manfiy son bu, musbat kirit\n"
          ]
        }
      ]
    },
    {
      "cell_type": "markdown",
      "source": [
        "# AMALIYOT\n",
        "\n",
        "- Yangi `cars = ['toyota', 'mazda', 'hyundai', 'gm', 'kia']` degan ro'yxat tuzing, ro'yxat elementlarining birinchi harfini katta qilib konsolga chqaring. `GM` uchun ikkala harfni katta qiling.\n",
        "- Yuqoridagi mashqni teng emas (`!=`) operatori yordamida bajaring.\n",
        "- Foydalanuvchi login ismini so'rang. Agar login `admin` bo'lsa, `\"Xush kelibsiz, Admin. Foydalanuvchilar ro'yxatini ko'rasizmi?\"` xabarini konsolga chiqaring. Aks holda, `\"Xush kelibsiz, {foydalanuvchi_ismi}!\"`  matnini konsolga chiqaring.\n",
        "- Foydalanuvchidan 2 ta son kiritishni so'rang. Agar ikki son bir-biriga teng bo'lsa, `\"Sonlar teng\"` ekan degan yozuvni konsolga chiqaring.\n",
        "- Foydalanuvchidan istalgan son kiritishni so'rang. Agar son manfiy bo'lsa konsolga `\"Manfiy son\"`, agar musbat bo'lsa `\"Musbat son\"` degan xabarni chiqaring.\n",
        "- Foydalanuvchidan son kiritishni so'rang, agar son musbat bo'lsa uning ildizini hisoblab konsolga chiqaring. Agar son manfiy bo'lsa, `\"Musbat son kiriting\"` degan xabarni chiqaring."
      ],
      "metadata": {
        "id": "xSTl1xz7JDOd"
      }
    },
    {
      "cell_type": "markdown",
      "source": [
        "# JAVOBLAR"
      ],
      "metadata": {
        "id": "NB6GYmjJJDOd"
      }
    },
    {
      "cell_type": "code",
      "source": [
        "#Yangi cars = ['toyota', 'mazda', 'hyundai', 'gm', 'kia'] degan ro'yxat tuzing, ro'yxat elementlarining birinchi harfini katta qilib konsolga chqaring. GM uchun ikkala harfni katta qiling.\n",
        "cars = ['toyota', 'mazda', 'hyundai', 'gm', 'kia']\n",
        "for car in cars:\n",
        "  if car=='gm':\n",
        "    print(car.upper())\n",
        "  else:\n",
        "    print(car.title())"
      ],
      "metadata": {
        "id": "wDuFbyFFJDOe",
        "outputId": "04ea25c1-f5ad-43cd-a10c-57de2b9bbb40"
      },
      "outputs": [
        {
          "name": "stdout",
          "output_type": "stream",
          "text": [
            "Toyota\n",
            "Mazda\n",
            "Hyundai\n",
            "GM\n",
            "Kia\n"
          ]
        }
      ],
      "execution_count": null
    },
    {
      "cell_type": "code",
      "source": [
        "#Yuqoridagi mashqni teng emas (!=) operatori yordamida bajaring.\n",
        "cars = ['toyota', 'mazda', 'hyundai', 'gm', 'kia']\n",
        "for car in cars:\n",
        "  if car!='gm':\n",
        "    print(car.title())\n",
        "  else:\n",
        "    print(car.upper())"
      ],
      "metadata": {
        "id": "z1iNZPObJDOe",
        "outputId": "2a86fbc2-40aa-405f-976d-bbaac7ed2e00"
      },
      "outputs": [
        {
          "name": "stdout",
          "output_type": "stream",
          "text": [
            "Toyota\n",
            "Mazda\n",
            "Hyundai\n",
            "GM\n",
            "Kia\n"
          ]
        }
      ],
      "execution_count": null
    },
    {
      "cell_type": "code",
      "source": [
        "#Foydalanuvchi login ismini so'rang. Agar login admin bo'lsa, \"Xush kelibsiz, Admin. Foydalanuvchilar ro'yxatini ko'rasizmi?\" xabarini konsolga chiqaring. Aks xolda, \"Xush kelibsiz, {foydalanuvchi_ismi}!\" matnini konsolga chiqaring.\n",
        "login = input(\"Login kiriting: \")\n",
        "if login.lower() == 'admin':\n",
        "  print(\"Xush kelibsiz Admin, foydalanuvchilar ro'yxatini ko'rasizmi?\")\n",
        "else:\n",
        "  print(f\"Xush kelibsiz {login.title()}!\")"
      ],
      "metadata": {
        "id": "FXSTnbBdJDOe",
        "outputId": "59f310b6-05b1-4e8a-baa9-2e3875bfd5e8"
      },
      "outputs": [
        {
          "name": "stdout",
          "output_type": "stream",
          "text": [
            "Login kiriting: admin\n",
            "Xush kelibsiz Admin, foydalanuvchilar ro'yxatini ko'rasizmi?\n"
          ]
        }
      ],
      "execution_count": null
    },
    {
      "cell_type": "code",
      "source": [
        "#Foydalanuvchidan 2 ta son kiritishni so'rang. Agar ikki son bir-biriga teng bo'lsa, \"Sonlar teng\" ekan degan yozuvni konsolga chiqaring.\n",
        "x = float(input(\"Birinchi sonni kiriting: \"))\n",
        "y = float(input(\"Ikkinchi sonni kiriting:\"))\n",
        "if x==y: print(f\"Sonlar teng: {x}={y}\")"
      ],
      "metadata": {
        "id": "8bTGFlKIJDOf",
        "outputId": "dbec5df3-3b2d-434d-c32b-ebe00c0d63cd"
      },
      "outputs": [
        {
          "name": "stdout",
          "output_type": "stream",
          "text": [
            "Birinchi sonni kiriting: 12\n",
            "Ikkinchi sonni kiriting:25\n"
          ]
        }
      ],
      "execution_count": null
    },
    {
      "cell_type": "code",
      "source": [
        "#Foydalanuvchidan istalgan son kiritishni so'rang. Agar son manfiy bo'lsa konsolga \"Manfiy son\", agar musbat bo'lsa \"Musbat son\" degan xabarni chiqaring.\n",
        "son = float(input(\"Istalgan son kiriting:\"))\n",
        "print(\"Son manfiy\") if son<0 else print(\"Son musbat\")"
      ],
      "metadata": {
        "id": "7ig1EfVFJDOf",
        "outputId": "31cf32c2-2ccd-47f6-8d14-6630fb9473d0"
      },
      "outputs": [
        {
          "name": "stdout",
          "output_type": "stream",
          "text": [
            "Istalgan son kiriting:-25\n",
            "Son manfiy\n"
          ]
        }
      ],
      "execution_count": null
    },
    {
      "cell_type": "code",
      "source": [
        "#Foydalanuvchidan son kiritishni so'rang, agar son musbat bo'lsa uning ildizini hisoblab konsolga chiqaring. Agar son manfiy bo'lsa, \"Musbat son kiriting\" degan xabarni chiqaring.\n",
        "son = float(input('Istalgan son kiriting: '))\n",
        "print(son**(1/2)) if son>0 else print('Musbat son kiriting')"
      ],
      "metadata": {
        "id": "dj60WRwmJDOf",
        "outputId": "c0d8390f-1dfa-4de6-b351-230bfdcd77da"
      },
      "outputs": [
        {
          "name": "stdout",
          "output_type": "stream",
          "text": [
            "Istalgan son kiriting: 65\n",
            "8.06225774829855\n"
          ]
        }
      ],
      "execution_count": null
    }
  ]
}