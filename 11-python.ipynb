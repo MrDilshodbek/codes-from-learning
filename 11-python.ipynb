{
  "cells": [
    {
      "cell_type": "markdown",
      "metadata": {
        "id": "rRIPFv7o6r6b"
      },
      "source": [
        "# 11-DARS. BIR NECHTA SHARTLARNI TEKSHIRISH\n",
        "`if-elif-else` zanjiri, `and`, `or` operatorlari bilan tanishamiz"
      ]
    },
    {
      "cell_type": "markdown",
      "metadata": {
        "id": "JYn5BQRK6r6e"
      },
      "source": [
        "![](https://gblobscdn.gitbook.com/assets%2F-MGbkqs1tROquIT6oqUs%2F-Mc-5yGQPZTBaGoehQdL%2F-Mc-7xpq4Puu3KEjmT0R%2FSD_YT_TG_logo_mini.png?alt=media&token=929fe67b-ec12-4f63-b33e-e9c5e3d8ad09)"
      ]
    },
    {
      "cell_type": "markdown",
      "metadata": {
        "id": "GHVXORvS6r6g"
      },
      "source": [
        "# if-elif-else KETMA-KETLIGI\n",
        "\n",
        "Dastur davomida bir nechta shartni tekshirish talab qilinishi mumkin. Bunday holatda biz `if-elif-else` ketma-ketligidan foydalanamiz. *elif* - else va if so'zalrining jamlanmasi bo'lib, *\"aks holda, agar...\"* deb tarjima qilinadi. Bunday `if` bilan boshlangan ketma-ketlik bir nechta `elif` lardan iborat bo'lishi mumkin.\n",
        "\n",
        "Python avval `if` shartini tekshiradi, shart bajarilmasa `elif` ga o'tadi, birinchi `elif` sharti bajarilmasa keyingi `elif` ga o'tadi va hokazo davom etaveradi.\n",
        "\n",
        "> **Diqqat!** `if-elif-else` ketma-ketlikda biror shart bajarilishi bilan, Python qolgan shartlarni tekshirmaydi.\n",
        "\n",
        "Keling bir misol ko'ramiz. Hayvonot bo'giga kirish quyidagicha belgilangan:\n",
        "- 4 yoshdan kichik bolalarga kirish bepul\n",
        "- 4 yoshdan 12 yoshgacha kirish 5000 so'm\n",
        "- 12 yoshdan kattalarga 10000 so'm\n",
        "\n",
        "Foydalanuvchidan yoshini so'rab, hayvonot bog'iga kirish chiptasi narhini chiqaruvchi dastur yozamiz."
      ]
    },
    {
      "cell_type": "code",
      "execution_count": null,
      "metadata": {
        "id": "t9saDfsL6r6i",
        "outputId": "8c3b521c-d459-4ac7-83c0-10ad632c4a39"
      },
      "outputs": [
        {
          "name": "stdout",
          "output_type": "stream",
          "text": [
            "Yoshingiz nechida? 12\n",
            "Sizga kirish 5000 so'm\n"
          ]
        }
      ],
      "source": [
        "yosh = int(input('Yoshingiz nechida? '))\n",
        "if yosh<=4:\n",
        "    print('Sizga kirish bepul.')\n",
        "elif yosh<=12:\n",
        "    print('Sizga kirish 5000 so\\'m')\n",
        "else:\n",
        "    print('Sizga kirish 10000 so\\'m')"
      ]
    },
    {
      "cell_type": "markdown",
      "metadata": {
        "id": "Tc8Oc5Kr6r6m"
      },
      "source": [
        "Yuqoridagi kod avval foydalanuvchi yoshini so'raydi. 2-qatorda yosh 4 dan kichik ekanligini tekshiradi. Agar bu shart bajarilsa shartlarni tekshirish shu yerdayoq to'xtaydi va keyingi shartlar tashlab o'tib ketiladi.\n",
        "\n",
        "`Sizga kirish bepul.`\n",
        "\n",
        "Agar `yosh<=4` sharti bajarilmasa, keyingi elif `yosh<=12` sharti tekshiriladi, agar shart bajarilsa quyidagi natija chiqadi:\n",
        "\n",
        "`Sizga kirish 5000 so'm`\n",
        "\n",
        "Agar yuoqridagi ikki shart ham bajarilmasa navbat o'z-o'zidan else bilan kelgan kod bajariladi:\n",
        "\n",
        "`Sizga kirish 10000 so'm`\n",
        "\n",
        "> Kod yozishda yaxshi amaliyotlardan biri, kodlarni qisqa yozish va buyruqlarni qayta-qayta takrorlamaslik. Bu kelajakda kodni o'zgartirishda ham juda qo'l keladi."
      ]
    },
    {
      "cell_type": "code",
      "execution_count": null,
      "metadata": {
        "id": "vKkTLW1a6r6n",
        "outputId": "da6f714b-f754-49e1-d844-0ec412bafc70"
      },
      "outputs": [
        {
          "name": "stdout",
          "output_type": "stream",
          "text": [
            "Yoshingiz nechida? 8\n",
            "Sizga kirish 5000 so'm\n"
          ]
        }
      ],
      "source": [
        "yosh = int(input('Yoshingiz nechida? '))\n",
        "if yosh<=4:\n",
        "    price = 0\n",
        "elif yosh<=12:\n",
        "    price = 5000\n",
        "else:\n",
        "    price = 10000\n",
        "\n",
        "print(f\"Sizga kirish {price} so'm\")"
      ]
    },
    {
      "cell_type": "markdown",
      "metadata": {
        "id": "VSTg0yVL6r6p"
      },
      "source": [
        "Avval aytganimizdek,  `if-elif-else` zanjirida bit nechta `elif` lar bo'lishi mumkin. Misol uchun, hayvonot bog'i qariyalar uchun chegirma e'lon qilsa, kodimizni quyidagicha o'zgartirishimiz mumkin:"
      ]
    },
    {
      "cell_type": "code",
      "execution_count": null,
      "metadata": {
        "id": "6uCLf1Hz6r6q",
        "outputId": "95f614a0-3e0d-4c38-af83-dc9328ed642c"
      },
      "outputs": [
        {
          "name": "stdout",
          "output_type": "stream",
          "text": [
            "Yoshingiz nechida? 66\n",
            "Sizga kirish 8000 so'm\n"
          ]
        }
      ],
      "source": [
        "yosh = int(input('Yoshingiz nechida? '))\n",
        "if yosh<=4: # yosh bolalarga bepul\n",
        "    price = 0\n",
        "elif yosh<=12: # 4 dan 12 yoshgacha 5000 so'm\n",
        "    price = 5000\n",
        "elif yosh<65: # 12 dan katta va 65 dan kichiklarga narh 10000 so'm\n",
        "    price = 10000\n",
        "else: # qariyalarga esa 8000 so'm\n",
        "    price = 8000\n",
        "print(f\"Sizga kirish {price} so'm\")"
      ]
    },
    {
      "cell_type": "markdown",
      "metadata": {
        "id": "oF55kw716r6s"
      },
      "source": [
        "`if-elif-else` zanjirida ham `else` qismi majburiy emas:"
      ]
    },
    {
      "cell_type": "code",
      "execution_count": null,
      "metadata": {
        "id": "SqxxNMB46r6t",
        "outputId": "dedaa25b-5ad9-4160-f14e-c55575e8bb7d"
      },
      "outputs": [
        {
          "name": "stdout",
          "output_type": "stream",
          "text": [
            "Yoshingiz nechida? 70\n",
            "Sizga kirish 8000 so'm\n"
          ]
        }
      ],
      "source": [
        "yosh = int(input('Yoshingiz nechida? '))\n",
        "if yosh<=4:\n",
        "    price = 0\n",
        "elif yosh<=12:\n",
        "    price = 5000\n",
        "elif yosh<65:\n",
        "    price = 10000\n",
        "elif yosh>=65:\n",
        "    price = 8000\n",
        "print(f\"Sizga kirish {price} so'm\")"
      ]
    },
    {
      "cell_type": "markdown",
      "metadata": {
        "id": "xK78Sudn6r6u"
      },
      "source": [
        "# `AND`, `OR` OPERATORLARI\n",
        "\n",
        "Yuqorida aytganimizdek, `if-elif-else` zanjirida shartlarning biri bajarilishi bilan, Python qolgan shartlarni tekshirmaydi va ularni bajarmaydi. Lekin ba'zida biz 2 yoki undan ko'p shartlarni tekshirishni talab qilishimiz mumkin, buing uchun `AND` va `OR` operatorlaridan foydalanamiz.\n",
        "\n",
        "## `OR` OPERATORI\n",
        "**OR** ingliz tilidan \"yoki\" deb tarjima qilinadi, va ikki va undan ko'p shartlardan biri bajarilishini tekshirishda ishlatiladi. Quyidagi misolni ko'raylik, foydalanuvchidan hafta kunini so'raymiz va agar kun shanba yoki yakshanba bo'lsa, bugun dam olish kuni degan xabarni chiqaramiz, aks holda bugun ish kuni degan xabarni chiqaramiz:"
      ]
    },
    {
      "cell_type": "code",
      "execution_count": null,
      "metadata": {
        "id": "5vY6IS016r6v",
        "outputId": "2d8aaa8e-a342-4dc6-d621-2a5a30f7a9a3"
      },
      "outputs": [
        {
          "name": "stdout",
          "output_type": "stream",
          "text": [
            "Bugun nima kun?>>>shanba\n",
            "Bugun dam olish kuni.\n"
          ]
        }
      ],
      "source": [
        "kun = input(\"Bugun nima kun?>>>\")\n",
        "if kun.lower()=='shanba' or kun.lower()=='yakshanba':\n",
        "    print('Bugun dam olish kuni.')\n",
        "else:\n",
        "    print('Bugun ish kuni.')"
      ]
    },
    {
      "cell_type": "markdown",
      "metadata": {
        "id": "OyfGTgEz6r6y"
      },
      "source": [
        "2-qatrodagi **`or`** operatoriga e'tibor qiling, bu operator `kun.lower()=='shanba'` yoki `kun.lower()=='yakshanba'` shartlaridan biri bajarilsa `TRUE` qiymatini qaytaradi"
      ]
    },
    {
      "cell_type": "code",
      "execution_count": null,
      "metadata": {
        "id": "g2EYUXWV6r6y",
        "outputId": "ff8aca58-2a6d-403e-d4bb-cd54e11fb499"
      },
      "outputs": [
        {
          "name": "stdout",
          "output_type": "stream",
          "text": [
            "Bugun nima kun?>>>juma\n",
            "Bugun ish kuni.\n"
          ]
        }
      ],
      "source": [
        "kun = input(\"Bugun nima kun?>>>\")\n",
        "if kun.lower()=='shanba' or kun.lower()=='yakshanba':\n",
        "    print('Bugun dam olish kuni.')\n",
        "else:\n",
        "    print('Bugun ish kuni.')"
      ]
    },
    {
      "cell_type": "markdown",
      "metadata": {
        "id": "x7_4tEyH6r6z"
      },
      "source": [
        "## `AND` OPERATORI"
      ]
    },
    {
      "cell_type": "markdown",
      "metadata": {
        "id": "Y87rhc126r6z"
      },
      "source": [
        "**AND** ingliz tilidan \"va\" deb tarjima qilinadi, va ikki va undan ko'p shartlarning barchasi bajarilishini tekshirishda ishlatiladi. `AND` operatori bilan yozilgan shartlarning barchasi bajarilgandagina `TRUE` qiymati qaytadi, agar shartlardan biri bajarilmay qolsa ham `FALSE` qiymati qaytadi.\n",
        "\n",
        "Quyidagi misolni ko'ramiz:"
      ]
    },
    {
      "cell_type": "code",
      "execution_count": null,
      "metadata": {
        "id": "RO2bpGE16r60",
        "outputId": "4f7ff466-eca9-4e2c-8301-f46bd6d365a0"
      },
      "outputs": [
        {
          "name": "stdout",
          "output_type": "stream",
          "text": [
            "Bugun nima kun?yakshanba\n",
            "Havo harorati qanday?36\n",
            "Cho'milgani ketdik!\n"
          ]
        }
      ],
      "source": [
        "kun = input(\"Bugun nima kun?\")\n",
        "harorat = float(input(\"Havo harorati qanday?\"))\n",
        "if kun.lower()=='yakshanba' and harorat>=30:\n",
        "    print(\"Cho'milgani ketdik!\")\n",
        "elif kun.lower()=='yakshanba' and harorat<30:\n",
        "    print(\"Uyda dam olamiz!\")"
      ]
    },
    {
      "cell_type": "markdown",
      "metadata": {
        "id": "ak2DLayl6r61"
      },
      "source": [
        "3-qatordagi and operatori `kun.lower()=='yakshanba'` va `harorat>=30` shartlarining ikkisi ham bajarilgandagina `TRUE` qiymatini qaytaradi, aks holda qiymat `FALSE` bo'ladi."
      ]
    },
    {
      "cell_type": "code",
      "execution_count": null,
      "metadata": {
        "id": "CWf3CYYr6r61",
        "outputId": "c4e5a331-b939-4143-e869-72691a82f440"
      },
      "outputs": [
        {
          "name": "stdout",
          "output_type": "stream",
          "text": [
            "Bugun nima kun?yakshanba\n",
            "Havo harorati qanday?25\n",
            "Uyda dam olamiz!\n"
          ]
        }
      ],
      "source": [
        "kun = input(\"Bugun nima kun?\")\n",
        "harorat = float(input(\"Havo harorati qanday?\"))\n",
        "if kun.lower()=='yakshanba' and harorat>=30:\n",
        "    print(\"Cho'milgani ketdik!\")\n",
        "elif kun.lower()=='yakshanba' and harorat<30:\n",
        "    print(\"Uyda dam olamiz!\")"
      ]
    },
    {
      "cell_type": "markdown",
      "metadata": {
        "id": "spGH7yvI6r62"
      },
      "source": [
        "## BIR NECHTA SHARTLARNI KETMA-KET YOZISH\n",
        "\n",
        "Shartlarni yozishda bir nechta `and` va `or` operatorlarini aralashtirib ham yozish mumkin."
      ]
    },
    {
      "cell_type": "code",
      "execution_count": null,
      "metadata": {
        "id": "Wbxs3eXA6r62",
        "outputId": "bd8864b5-a4b8-4328-f85a-360e74f845a1"
      },
      "outputs": [
        {
          "name": "stdout",
          "output_type": "stream",
          "text": [
            "Bugun nima kun?shanba\n",
            "Havo harorati qanday?36\n",
            "Cho'milgani ketdik!\n"
          ]
        }
      ],
      "source": [
        "kun = input(\"Bugun nima kun?\")\n",
        "harorat = float(input(\"Havo harorati qanday?\"))\n",
        "if (kun.lower()=='shanba' or kun.lower()=='yakshanba') and harorat>=30:\n",
        "    print(\"Cho'milgani ketdik!\")\n",
        "elif (kun.lower()=='shanba' or kun.lower()=='yakshanba') and harorat<30:\n",
        "    print(\"Uyda dam olamiz!\")"
      ]
    },
    {
      "cell_type": "markdown",
      "metadata": {
        "id": "R3pI4q1O6r63"
      },
      "source": [
        "3-qatorga e'tibor bersangiz biz avval kun shanba yoki yakshanba ekanligini so'ngra haroratni tekshirdik. Bu shart bajarilishi uchun kun shanba yoki yakshanba va harorat 30 dan baland bo'lishi shart."
      ]
    },
    {
      "cell_type": "markdown",
      "metadata": {
        "id": "3r9vaxdm6r63"
      },
      "source": [
        "# BOOLEAN MA'LUMOTLAR TURI"
      ]
    },
    {
      "cell_type": "markdown",
      "metadata": {
        "id": "JfSHG4CA6r64"
      },
      "source": [
        "Avvalgi darsimizda biz turli ifodalarni solishtirishda `TRUE` yoki `FALSE` qiymatlari qaytishini ko'rdik. Bu qiymatlar boolean (mantiqiy) qiymatlar deb ataladi, va dasturlashda juda keng qo'llaniladi. Pythonda o'zgaruvchilarda boolean qiymatlarni ham saqlash mumkin.\n",
        "\n",
        "Quyidagi dasturga e'tibor bering. Deylik, restoranimizga kelgan mijoz 15000 so'mlik taom oldi, biz mijoz qo'shimcha choy va salat ham olgan (olmaganiga) qarab ularning narhini ham  yakuniy narhga qo'shishimiz kerak. Mijozning choy yoki salat olgan (olmaganini) biz TRUE va FALSE qiymatlari bilan belgiladik.\n"
      ]
    },
    {
      "cell_type": "code",
      "execution_count": null,
      "metadata": {
        "id": "rKXdE9Nz6r64",
        "outputId": "c56cd127-66ae-437b-dcb8-e5b2e6feb35a"
      },
      "outputs": [
        {
          "name": "stdout",
          "output_type": "stream",
          "text": [
            "Jami 20000 so'm\n"
          ]
        }
      ],
      "source": [
        "narh = 15000 # mijoz 15000 so'mga taom oldi.\n",
        "choy = True # mijoz choy ham oldi\n",
        "salat = False # mijoz salat olmadi\n",
        "\n",
        "if choy and salat: # agar mijoz choy ham salat ham olgan bo'lsa\n",
        "    narh = narh + 10000 # narhga 10000 so'm qo'shamiz\n",
        "elif choy or salat: # agar choy yoki salat olgan bo'lsa\n",
        "    narh = narh + 5000 # narhga 5000 so'm qo'shamiz\n",
        "\n",
        "print(f\"Jami {narh} so'm\") # yakuniy narhni chiqaramiz"
      ]
    },
    {
      "cell_type": "markdown",
      "metadata": {
        "id": "w3RoBgy56r65"
      },
      "source": [
        "E'tibor bering, `choy` va `salat` boolean (mantiqiy) qiymatlar bo'gani uchun, 5 va 7-qatorlarda biz `choy==True` yoki `salat==True` deb yozib o'tirishimiz shart emas.\n",
        "\n",
        "Yuoqirdagi misolda `choy = True` (choy oldi) va `salat = False` (salat olmadi) bo'lgani uchun yakuniy narx `narx+5000=20000` chiqdi.\n",
        "Boolean o'zgaruvchilarni saqlashda `TRUE` va `FALSE` qiymatlari o'rniga `1` va `0` sonlarini ham ishlatish mumkin.\n",
        "\n",
        "# SHARTLARNI KETMA-KET TEKSHIRISH\n",
        "\n",
        "`if-elif-else` zanjirining kamchiligidan biri, shartlardan biri bajarilishi bilan, qolgan shartlar tekshirilmaydi. Shung uchun ba'zida shartlarni ketma ket tekshirish uchun, har bir shartni alohida if bilan ajratish talab qilinishi mumkin.\n",
        "\n",
        "Yuqoridagi misolni kengaytiraylik:"
      ]
    },
    {
      "cell_type": "code",
      "execution_count": null,
      "metadata": {
        "id": "68HWwxHK6r65",
        "outputId": "dc0f91ed-19f2-4cb0-bdb4-2f44368bac53"
      },
      "outputs": [
        {
          "name": "stdout",
          "output_type": "stream",
          "text": [
            "Mijoz choy oldi.\n",
            "Mijoz non oldi.\n",
            "Mijoz kompot oldi.\n",
            "Jami 25000 so'm\n"
          ]
        }
      ],
      "source": [
        "narh = 15000 # mijoz 15 so'mga ovqat oldi\n",
        "choy = True\n",
        "salat = False\n",
        "non = True\n",
        "kompot = True\n",
        "assorti = False\n",
        "#Quyidagi har bir shart alohida tekshiriladi va bir-biriga bog'liq emas\n",
        "if choy:   # agar choy olsa\n",
        "    print(\"Mijoz choy oldi.\")\n",
        "    narh = narh + 3000\n",
        "if salat:  # agar salat olsa\n",
        "    print(\"Mijoz salat oldi.\")\n",
        "    narh = narh + 5000\n",
        "if non:    # agar non olsa\n",
        "    print(\"Mijoz non oldi.\")\n",
        "    narh = narh + 2000\n",
        "if kompot: # agar kompot olsa\n",
        "    print(\"Mijoz kompot oldi.\")\n",
        "    narh = narh + 5000\n",
        "if assorti: # agar assorti olsa\n",
        "    print(\"Mijoz assorti oldi.\")\n",
        "    narh = narh + 15000\n",
        "\n",
        "print(f\"Jami {narh} so'm\")"
      ]
    },
    {
      "cell_type": "markdown",
      "metadata": {
        "id": "VcIYuf3k6r66"
      },
      "source": [
        "Yuqoridagi dasturda har bir `if` alohida tekshiriladi va avvalgi yoki keyingi `if` ga bog'liq emas.\n",
        "\n",
        "# RO'YXAT TARKIBINI TEKSHIRISH\n",
        "\n",
        "## in OPERATORI\n",
        "\n",
        "`in` operatori yordamida biz ro'yxatning tarkibida ma'lum bir element borligini tekshirishimiz mumkin."
      ]
    },
    {
      "cell_type": "code",
      "execution_count": null,
      "metadata": {
        "id": "hzbgDtD96r66",
        "outputId": "5fb89477-18ce-44c1-ea83-142ad80851cf"
      },
      "outputs": [
        {
          "data": {
            "text/plain": [
              "False"
            ]
          },
          "execution_count": 15,
          "metadata": {},
          "output_type": "execute_result"
        }
      ],
      "source": [
        "menu = ['osh','qazonkabob','shashlik','norin','somsa']\n",
        "'manti' in menu # menu da manti bormi?"
      ]
    },
    {
      "cell_type": "code",
      "execution_count": null,
      "metadata": {
        "id": "qeXV1FpC6r67",
        "outputId": "10d13b68-b712-440d-b1ae-6ca37806c3a6"
      },
      "outputs": [
        {
          "data": {
            "text/plain": [
              "True"
            ]
          },
          "execution_count": 16,
          "metadata": {},
          "output_type": "execute_result"
        }
      ],
      "source": [
        "menu = ['osh','qazonkabob','shashlik','norin','somsa']\n",
        "'osh' in menu # menu da osh bormi?"
      ]
    },
    {
      "cell_type": "code",
      "execution_count": null,
      "metadata": {
        "id": "3s5NE-yb6r67",
        "outputId": "12def0f1-0a11-4d90-aacd-fdd7374b1ed1"
      },
      "outputs": [
        {
          "name": "stdout",
          "output_type": "stream",
          "text": [
            "Nima ovqat yeysiz?>>>manti\n",
            "Afsuski bizda bunday ovqat yo'q\n"
          ]
        }
      ],
      "source": [
        "menu = ['osh','qazonkabob','shashlik','norin','somsa']\n",
        "ovqat = input('Nima ovqat yeysiz?>>>')\n",
        "if ovqat.lower() in menu:\n",
        "    print('Buyurtma qabul qilindi.')\n",
        "else:\n",
        "    print('Afsuski bizda bunday ovqat yo\\'q')"
      ]
    },
    {
      "cell_type": "markdown",
      "metadata": {
        "id": "3LLvx4ce6r67"
      },
      "source": [
        "## `not in` OPERATORI\n",
        "\n",
        "`not in` operatori yordamida esa biror element ro'yxatda yo'qligini tekshirishimiz mumkin."
      ]
    },
    {
      "cell_type": "code",
      "execution_count": null,
      "metadata": {
        "id": "Q2MndilN6r68",
        "outputId": "14b6d537-6163-4db5-86b7-e2764ec41566"
      },
      "outputs": [
        {
          "data": {
            "text/plain": [
              "True"
            ]
          },
          "execution_count": 18,
          "metadata": {},
          "output_type": "execute_result"
        }
      ],
      "source": [
        "menu = ['osh','qazonkabob','shashlik','norin','somsa']\n",
        "'manti' not in menu # menu da manti yo'qmi?"
      ]
    },
    {
      "cell_type": "code",
      "execution_count": null,
      "metadata": {
        "id": "3wrGG_ot6r68",
        "outputId": "a6bc2bbe-a22d-4b96-e2c5-08056277ff50"
      },
      "outputs": [
        {
          "data": {
            "text/plain": [
              "False"
            ]
          },
          "execution_count": 19,
          "metadata": {},
          "output_type": "execute_result"
        }
      ],
      "source": [
        "menu = ['osh','qazonkabob','shashlik','norin','somsa']\n",
        "'osh' not in menu # menu da osh yo'qmi?"
      ]
    },
    {
      "cell_type": "code",
      "execution_count": null,
      "metadata": {
        "id": "M5d2uvTv6r68",
        "outputId": "12bb1d3e-9366-44d2-aacf-2037bff6c7ad"
      },
      "outputs": [
        {
          "name": "stdout",
          "output_type": "stream",
          "text": [
            "Nima ovqat yeysiz?>>>lag'mon\n",
            "Afsuski bizda bunday ovqat yo'q\n"
          ]
        }
      ],
      "source": [
        "menu = ['osh','qazonkabob','shashlik','norin','somsa']\n",
        "ovqat = input('Nima ovqat yeysiz?>>>')\n",
        "if ovqat.lower() not in menu:\n",
        "    print('Afsuski bizda bunday ovqat yo\\'q')\n",
        "else:\n",
        "    print('Buyurtma qabul qilindi.')"
      ]
    },
    {
      "cell_type": "markdown",
      "metadata": {
        "id": "wcKWDZlN6r69"
      },
      "source": [
        "> `not` operatorini boshqa shartlarning oldidan ham qo'yishimiz mumkin. Misol uchun: `if not a==5` ifodasi `if a!=5` ifodasi bilan bir hil natija qaytaradi."
      ]
    },
    {
      "cell_type": "markdown",
      "metadata": {
        "id": "_htk3RKy6r69"
      },
      "source": [
        "## IKKI RO'YXATNI SOLISHTIRISH\n",
        "\n",
        "Ikki ro'yxatning tarkibi quyidagicha tekshiriladi:"
      ]
    },
    {
      "cell_type": "code",
      "execution_count": null,
      "metadata": {
        "id": "9dBCfeM06r69",
        "outputId": "bc30d9cc-e739-447b-92c7-f079cf9b4494"
      },
      "outputs": [
        {
          "name": "stdout",
          "output_type": "stream",
          "text": [
            "Menuda osh bor\n",
            "Menuda somsa bor\n",
            "Kechirasiz, menuda manti yo'q\n",
            "Menuda shashlik bor\n"
          ]
        }
      ],
      "source": [
        "menu = ['osh','qazonkabob','shashlik','norin','somsa']\n",
        "buyurtmalar = [\"osh\",\"somsa\",\"manti\", \"shashlik\"]\n",
        "\n",
        "for taom in buyurtmalar:\n",
        "    if taom in menu:\n",
        "        print(f\"Menuda {taom} bor\")\n",
        "    else:\n",
        "        print(f\"Kechirasiz, menuda {taom} yo'q\")"
      ]
    },
    {
      "cell_type": "markdown",
      "metadata": {
        "id": "gSK1AC_P6r6-"
      },
      "source": [
        "## RO'YXAT BO'SH EMASLIGINI TEKSHIRISH\n",
        "\n",
        "Yuqoridagi dasturimizda biz foydalanuvchi buyurtma berdi deb tasavvur qilyapmiz. Lekin foydalanuvchidan bo'sh ro'yxat kelsachi? Demak for tsiklini bajarishdan avval ro'yxat bo'sh emasligiga amin bo'lishimiz kerak. Buning uchun avvalgi kodimizni quyidagicha o'zgartiramiz:"
      ]
    },
    {
      "cell_type": "code",
      "execution_count": null,
      "metadata": {
        "id": "_tSPoN2H6r7M",
        "outputId": "f7931c35-9c2f-49cb-9944-635167b69e49"
      },
      "outputs": [
        {
          "name": "stdout",
          "output_type": "stream",
          "text": [
            "Menuda osh bor\n",
            "Menuda somsa bor\n",
            "Kechirasiz, menuda manti yo'q\n",
            "Menuda shashlik bor\n"
          ]
        }
      ],
      "source": [
        "menu = ['osh','qazonkabob','shashlik','norin','somsa']\n",
        "buyurtmalar = [\"osh\",\"somsa\",\"manti\", \"shashlik\"]\n",
        "\n",
        "if buyurtmalar: # ro'yxatda biror element bo'lsa bu ifoda TRUE qaytaradi\n",
        "    for taom in buyurtmalar:\n",
        "        if taom in menu:\n",
        "            print(f\"Menuda {taom} bor\")\n",
        "        else:\n",
        "            print(f\"Kechirasiz, menuda {taom} yo'q\")\n",
        "else: # agar ro'yxat bo'sh bo'lsa\n",
        "    print(\"Savatchangiz bo'sh!\")"
      ]
    },
    {
      "cell_type": "markdown",
      "metadata": {
        "id": "MbluidBT6r7N"
      },
      "source": [
        "Demak `if royxat_nomi:` ifodasi agar ro'yxatda bir dona element bo'lsa ham `TRUE` qiymat qaytaradi, aks holda `FALSE` qiymatini qaytaradi."
      ]
    },
    {
      "cell_type": "code",
      "source": [
        "numbers = int(input(\"Istalgan son kiriting: \"))\n",
        "if numbers %2 :\n",
        "  print(\"Bu son juft emas\")\n",
        "else:\n",
        "  print(\"Rahmat\")"
      ],
      "metadata": {
        "id": "XjmTxOli7CZb",
        "outputId": "f4480738-fea2-49e1-98fb-093aaa0e221e",
        "colab": {
          "base_uri": "https://localhost:8080/"
        }
      },
      "execution_count": 4,
      "outputs": [
        {
          "output_type": "stream",
          "name": "stdout",
          "text": [
            "Istalgan son kiriting: 2\n",
            "Rahmat\n"
          ]
        }
      ]
    },
    {
      "cell_type": "code",
      "source": [
        "numbers = int(input(\"Istalgan son kiriting: \"))\n",
        "if numbers %2 :\n",
        "  print(\"Bu son juft emas\")\n",
        "else:\n",
        "  print(\"Rahmat\")"
      ],
      "metadata": {
        "id": "sO6j9ltB70U6",
        "outputId": "dc166205-b4d8-420b-ffe1-72ebfa45437e",
        "colab": {
          "base_uri": "https://localhost:8080/"
        }
      },
      "execution_count": 5,
      "outputs": [
        {
          "output_type": "stream",
          "name": "stdout",
          "text": [
            "Istalgan son kiriting: 3\n",
            "Bu son juft emas\n"
          ]
        }
      ]
    },
    {
      "cell_type": "code",
      "source": [
        "age = int(input(\"Yoshingiz nechida?\"))\n",
        "\n",
        "if age<=4 or age>=60:\n",
        "    narx = 0;\n",
        "elif age < 18:\n",
        "    narx = 10000\n",
        "else:\n",
        "    narx = 20000\n",
        "print(f\"Chipta {narx} so'm\")"
      ],
      "metadata": {
        "id": "Ztvw84I-72pc",
        "outputId": "41ddd40e-9098-4d44-bb46-2e90daa6b990",
        "colab": {
          "base_uri": "https://localhost:8080/"
        }
      },
      "execution_count": 7,
      "outputs": [
        {
          "output_type": "stream",
          "name": "stdout",
          "text": [
            "Yoshingiz nechida?18\n",
            "Chipta 20000 so'm\n"
          ]
        }
      ]
    },
    {
      "cell_type": "code",
      "source": [
        "num1 = int(input(\"birinchi sonni kirit: \"))\n",
        "num2 = int(input(\"ikkinchi sonni kirit: \"))\n",
        "if num1 == num2:\n",
        "  print(\"bu sonlar teng\")\n",
        "elif num1<num2:\n",
        "  print(f\"{num1} kichik {num2} dan\")\n",
        "else:\n",
        "  print(f\"{num1} katta {num2} dan\")"
      ],
      "metadata": {
        "id": "DGSmrhfx8Qw7",
        "outputId": "65420172-d4c0-4e27-d3d9-e5d9a4256e4e",
        "colab": {
          "base_uri": "https://localhost:8080/"
        }
      },
      "execution_count": 14,
      "outputs": [
        {
          "output_type": "stream",
          "name": "stdout",
          "text": [
            "birinchi sonni kirit: 4\n",
            "ikkinchi sonni kirit: 5\n",
            "4 kichik 5 dan\n"
          ]
        }
      ]
    },
    {
      "cell_type": "code",
      "source": [
        "mahsulotlar = ['olma', 'lays', 'anor', 'mimi', 'cola', 'nest', 'tovoq', 'gul', 'piyoz', 'sabzi']\n",
        "savat = []\n",
        "for mahsulot in range(5):\n",
        "    savat.append(input(f\"Savatga {mahsulot+1} mahsulotni qo'shing: \"))\n",
        "\n",
        "\n",
        "for mahsulot in savat:\n",
        "    if mahsulot in mahsulotlar:\n",
        "        print(f\"Do'konimizda {mahsulot} bor\")\n",
        "    else:\n",
        "        print(f\"Do'konimizda {mahsulot} yo'q\")"
      ],
      "metadata": {
        "id": "2E44jGFZ9P-0",
        "outputId": "cbd69931-ff96-480d-cdb2-cd9c43fdb056",
        "colab": {
          "base_uri": "https://localhost:8080/"
        }
      },
      "execution_count": 15,
      "outputs": [
        {
          "output_type": "stream",
          "name": "stdout",
          "text": [
            "Savatga 1 mahsulotni qo'shing: olma\n",
            "Savatga 2 mahsulotni qo'shing: gilos\n",
            "Savatga 3 mahsulotni qo'shing: pepsi\n",
            "Savatga 4 mahsulotni qo'shing: kola\n",
            "Savatga 5 mahsulotni qo'shing: lays\n",
            "Do'konimizda olma bor\n",
            "Do'konimizda gilos yo'q\n",
            "Do'konimizda pepsi yo'q\n",
            "Do'konimizda kola yo'q\n",
            "Do'konimizda lays bor\n"
          ]
        }
      ]
    },
    {
      "cell_type": "code",
      "source": [
        "for mahsulot in range(5):\n",
        "    savat.append(input(f\"Savatga {mahsulot+1}-mahsulotni qo'shing: \"))\n",
        "\n",
        "bor_mahsulotlar = []\n",
        "mavjud_emas = []\n",
        "for mahsulot in savat:\n",
        "    if mahsulot in mahsulotlar:\n",
        "        bor_mahsulotlar.append(mahsulot)\n",
        "    else:\n",
        "        mavjud_emas.append(mahsulot)\n",
        "\n",
        "if mavjud_emas:\n",
        "  print(f\"Do'konimizda quyidagi mahsulotlar yo'q:\")\n",
        "  for mahsulot in mavjud_emas:\n",
        "    print(mahsulot)\n",
        "else:\n",
        "  print(\"Siz so'ragan barcha mahsulotlar do'konimizda bor\")"
      ],
      "metadata": {
        "id": "-RJZjKDoGt0h",
        "outputId": "aa39419e-85b8-49d3-f4f4-98a8658c4f46",
        "colab": {
          "base_uri": "https://localhost:8080/"
        }
      },
      "execution_count": 16,
      "outputs": [
        {
          "output_type": "stream",
          "name": "stdout",
          "text": [
            "Savatga 1-mahsulotni qo'shing: olma\n",
            "Savatga 2-mahsulotni qo'shing: gilos\n",
            "Savatga 3-mahsulotni qo'shing: cola\n",
            "Savatga 4-mahsulotni qo'shing: fanta\n",
            "Savatga 5-mahsulotni qo'shing: tarvuz\n",
            "Do'konimizda quyidagi mahsulotlar yo'q:\n",
            "gilos\n",
            "pepsi\n",
            "kola\n",
            "gilos\n",
            "fanta\n",
            "tarvuz\n"
          ]
        }
      ]
    },
    {
      "cell_type": "code",
      "source": [
        "foydalanuvchilar = ['lucifer', 'dragonmania', 'redhot', 'mrdil', 'muham']\n",
        "login = input(\"yangi login kiriting: \")\n",
        "if login in foydalanuvchilar:\n",
        "    print(\"bu login olingan\")\n",
        "else:\n",
        "    print(f\"Xush kelibsiz, {login}\")\n"
      ],
      "metadata": {
        "id": "UXl9ZGhQHOOn",
        "outputId": "9f89b7da-2536-48fe-ede7-aa75ab424666",
        "colab": {
          "base_uri": "https://localhost:8080/"
        }
      },
      "execution_count": 30,
      "outputs": [
        {
          "output_type": "stream",
          "name": "stdout",
          "text": [
            "yangi login kiriting: lucifer\n",
            "bu login olingan\n"
          ]
        }
      ]
    },
    {
      "cell_type": "code",
      "source": [
        "foydalanuvchilar = ['lucifer', 'dragonmania', 'redhot', 'mrdil', 'muham']\n",
        "login = input(\"yangi login kiriting: \")\n",
        "if login in foydalanuvchilar:\n",
        "    print(\"bu login olingan\")\n",
        "else:\n",
        "    print(f\"Xush kelibsiz, {login}\")"
      ],
      "metadata": {
        "id": "qBheYSI_JfES",
        "outputId": "2fd331ba-47c5-4a14-acbd-673cae334e82",
        "colab": {
          "base_uri": "https://localhost:8080/"
        }
      },
      "execution_count": 31,
      "outputs": [
        {
          "output_type": "stream",
          "name": "stdout",
          "text": [
            "yangi login kiriting: mimi\n",
            "Xush kelibsiz, mimi\n"
          ]
        }
      ]
    },
    {
      "cell_type": "code",
      "source": [
        "num = int(input(\"Butun son kiriting: \"))\n",
        "\n",
        "for n in range(2,11):\n",
        "    if not (num%n):\n",
        "        print(f\"{num} soni {n} ga qoldiqsiz bo'linadi\")"
      ],
      "metadata": {
        "id": "bvcF1e7KJilK",
        "outputId": "b7696d68-df49-4370-b324-97ef862d400f",
        "colab": {
          "base_uri": "https://localhost:8080/"
        }
      },
      "execution_count": 32,
      "outputs": [
        {
          "output_type": "stream",
          "name": "stdout",
          "text": [
            "Butun son kiriting: 45\n",
            "45 soni 3 ga qoldiqsiz bo'linadi\n",
            "45 soni 5 ga qoldiqsiz bo'linadi\n",
            "45 soni 9 ga qoldiqsiz bo'linadi\n"
          ]
        }
      ]
    },
    {
      "cell_type": "markdown",
      "metadata": {
        "id": "aa7I8nIe6r7N"
      },
      "source": [
        "# AMALIYOT\n",
        "\n",
        "### Quyidagi dasturlarni alohida fayllarga yozing va bajaring:\n",
        "\n",
        "- Foydalanuvchidan juft son kiritishni so'rang. Agar foydalanuvchi juft son kiritsa \"Rahmat!\", agar toq son kiritsa \"Bu son juft emas\" degan xabarni chiqaring.\n",
        "\n",
        "- Foydalanuvchi yoshini so'rang, va muzeyga kirish uchun chipta narhini quyidagicha chiqaring:\n",
        "    + Agar foydalanuvchi 4 yoshdan kichkina yoki 60 dan katta bo'lsa bepul\n",
        "    + Agar foydalanuvchi 18 dan kichik bo'lsa 10000 so'm\n",
        "    + Agar foydalanuvchi 18 dan katta bo'lsa 20000 so'm\n",
        "\n",
        "- Foydalanuvchidan ikita son kiritishni so'rang, sonlarni solishtiring va ularning teng yoki katta/kichikligi haqida xabarni chiqaring\n",
        "\n",
        "- `mahsulotlar` degan ro'yxat yarating va kamida 10 ta turli mahsulotni kiriting. Yangi, `savat` degan bo'sh ro'yxat yarating va foydalanuvchidan savatga kamida 5 ta mahsulot kiritishni so'rang. Savatdagi elementlarni, `mahsulotlar` ro'yxati bilan solishtiring va qaysi biri ro'yxatda bo'lsa `\"Mahsulot do'konimizda bor\"` aks holda, `\"Mahsulot do'konimizda yo'q\"` degan xabarlarni chiqaring.\n",
        "\n",
        "- Yuqoridagi dasturni quyidagicha o'zgartiring: foydalanuvchidan 5 ta mahsulot kiritishni so'rang. Foydalanuvchi so'ragan va do'konda bor mahsulotlarni yang, bor_mahsulotlar degan ro'yxatga, do'konda yo'q mahsulotlarni esa mavjud_emas degan ro'yxatga qo'shing.  Agar mavjud_emas ro'yxati bo'sh bo'lsa, \"Siz so'ragan barcha mahsulotlar do'konimizda bor\" degan xabarni, aks holda esa \"Quyidagi mahsulotlar do'konimizda yo'q: .....\" degan xabarni chiqaring.\n",
        "\n",
        "- `foydalanuvchilar` degan ro'yxat tuzing, va kamida 5 ta login qo'shing. Foydalanuvchidan yangi login tanlashni so'rang va foydalanuvchi kiritgan loginni `foydalanuvchilar` degan ro'yxatning tarkibi bilan solishtiring. Agar ro'yxatda bunday login mavjud bo'lsa, `\"Login band, yangi login tanlang!\"` aks holda `\"Xush kelibsiz, foydalanuvchi!\"` xabarini chiqaring.\n",
        "\n",
        "- Foydalanuvchidan biror butun son kiritishni so'rang. Foydalanuvchi kiritgan sonni 2 da 10 gacha bo'lgan sonlardan qay biriga qoldiqsiz bo'linishini konsolga chiqaring."
      ]
    },
    {
      "cell_type": "markdown",
      "metadata": {
        "id": "j9cR_3dH6r7N"
      },
      "source": [
        "# JAVOBLAR"
      ]
    },
    {
      "cell_type": "code",
      "execution_count": null,
      "metadata": {
        "id": "apQtJEND6r7O",
        "outputId": "257479ff-2cbe-4759-9b5c-03af2ee35660"
      },
      "outputs": [
        {
          "name": "stdout",
          "output_type": "stream",
          "text": [
            "Juft son kiriting: 4\n",
            "Rahmat!\n"
          ]
        }
      ],
      "source": [
        "son = float(input(\"Juft son kiriting: \"))\n",
        "if son%2:\n",
        "    print('Bu son juft emas.')\n",
        "else:\n",
        "    print(\"Rahmat!\")"
      ]
    },
    {
      "cell_type": "code",
      "execution_count": null,
      "metadata": {
        "id": "1CTovNYS6r7P",
        "outputId": "a84d5d17-4513-4c3c-bde4-6f2bc760e94a"
      },
      "outputs": [
        {
          "name": "stdout",
          "output_type": "stream",
          "text": [
            "Yoshingiz nechida?15\n",
            "Chipta 10000 so'm\n"
          ]
        }
      ],
      "source": [
        "yosh = int(input(\"Yoshingiz nechida?\"))\n",
        "\n",
        "if yosh<=4 or yosh>=60:\n",
        "    narh = 0;\n",
        "elif yosh < 18:\n",
        "    narh = 10000\n",
        "else:\n",
        "    narh = 20000\n",
        "print(f\"Chipta {narh} so'm\")"
      ]
    },
    {
      "cell_type": "code",
      "execution_count": null,
      "metadata": {
        "id": "OPg3PPgq6r7P",
        "outputId": "f89aa82a-de41-4ce4-ef62-d93d5771c781"
      },
      "outputs": [
        {
          "name": "stdout",
          "output_type": "stream",
          "text": [
            "Birinchi sonni kiriting: 12\n",
            "Ikkinchi sonni kiriting: 23\n",
            "12.0<23.0\n"
          ]
        }
      ],
      "source": [
        "x = float(input(\"Birinchi sonni kiriting: \"))\n",
        "y = float(input(\"Ikkinchi sonni kiriting: \"))\n",
        "if x==y:\n",
        "    print(f\"{x}={y}\")\n",
        "elif x<y:\n",
        "    print(f\"{x}<{y}\")\n",
        "else:\n",
        "    print(f\"{x}>{y}\")"
      ]
    },
    {
      "cell_type": "code",
      "execution_count": null,
      "metadata": {
        "id": "nHsM7cmP6r7P",
        "outputId": "780733de-19f2-4676-d75c-3bc34b31fda4"
      },
      "outputs": [
        {
          "name": "stdout",
          "output_type": "stream",
          "text": [
            "Savatga 1-mahsulotni qo'shing: olma\n",
            "Savatga 2-mahsulotni qo'shing: anor\n",
            "Savatga 3-mahsulotni qo'shing: un\n",
            "Savatga 4-mahsulotni qo'shing: uzum\n",
            "Savatga 5-mahsulotni qo'shing: qovun\n",
            "Do'konimizda olma bor\n",
            "Do'konimizda anor yo'q\n",
            "Do'konimizda un bor\n",
            "Do'konimizda uzum bor\n",
            "Do'konimizda qovun bor\n"
          ]
        }
      ],
      "source": [
        "mahsulotlar = ['un', \"yog'\", \"sovun\", 'tuxum', 'piyoz',\n",
        "               'kartoshka', 'olma', 'banan', 'uzum', 'qovun']\n",
        "\n",
        "\n",
        "savat = []\n",
        "for n in range(5):\n",
        "    savat.append(input(f\"Savatga {n+1}-mahsulotni qo'shing: \"))\n",
        "\n",
        "\n",
        "for mahsulot in savat:\n",
        "    if mahsulot in mahsulotlar:\n",
        "        print(f\"Do'konimizda {mahsulot} bor\")\n",
        "    else:\n",
        "        print(f\"Do'konimizda {mahsulot} yo'q\")"
      ]
    },
    {
      "cell_type": "code",
      "execution_count": null,
      "metadata": {
        "id": "qyTE5Nhy6r7Q",
        "outputId": "9ca27021-bf36-4951-c39b-9bf58f7c7564"
      },
      "outputs": [
        {
          "name": "stdout",
          "output_type": "stream",
          "text": [
            "Savatga 1-mahsulotni qo'shing: olma\n",
            "Savatga 2-mahsulotni qo'shing: anjir\n",
            "Savatga 3-mahsulotni qo'shing: uzum\n",
            "Savatga 4-mahsulotni qo'shing: qovun\n",
            "Savatga 5-mahsulotni qo'shing: un\n",
            "Do'konimizda quyidagi mahsulotlar yo'q:\n",
            "anjir\n"
          ]
        }
      ],
      "source": [
        "mahsulotlar = ['un', \"yog'\", \"sovun\", 'tuxum', 'piyoz',\n",
        "               'kartoshka', 'olma', 'banan', 'uzum', 'qovun']\n",
        "\n",
        "\n",
        "savat = []\n",
        "for n in range(5):\n",
        "    savat.append(input(f\"Savatga {n+1}-mahsulotni qo'shing: \"))\n",
        "\n",
        "bor_mahsulotlar = []\n",
        "mavjud_emas = []\n",
        "for mahsulot in savat:\n",
        "    if mahsulot in mahsulotlar:\n",
        "        bor_mahsulotlar.append(mahsulot)\n",
        "    else:\n",
        "        mavjud_emas.append(mahsulot)\n",
        "\n",
        "if mavjud_emas:\n",
        "  print(f\"Do'konimizda quyidagi mahsulotlar yo'q:\")\n",
        "  for mahsulot in mavjud_emas:\n",
        "    print(mahsulot)\n",
        "else:\n",
        "  print(\"Siz so'ragan barcha mahsulotlar do'konimizda bor\")\n",
        ""
      ]
    },
    {
      "cell_type": "code",
      "execution_count": null,
      "metadata": {
        "id": "CKsSjpcv6r7Q",
        "outputId": "3cc423b5-6907-48ca-f8b8-9887afda5197"
      },
      "outputs": [
        {
          "name": "stdout",
          "output_type": "stream",
          "text": [
            "Yangi login tanlang: anvar\n",
            "Xush kelibsiz, Anvar!\n"
          ]
        }
      ],
      "source": [
        "users = ['alisher','aziza','yasina','umar']\n",
        "\n",
        "login = input(\"Yangi login tanlang: \")\n",
        "\n",
        "if login.lower() in users:\n",
        "    print('Login band, yangi login tanlang!')\n",
        "else:\n",
        "    print(f\"Xush kelibsiz, {login.title()}!\")"
      ]
    },
    {
      "cell_type": "code",
      "execution_count": null,
      "metadata": {
        "id": "KZmbCHnw6r7R",
        "outputId": "09544a7c-8a41-4335-8545-59a18abff24f"
      },
      "outputs": [
        {
          "name": "stdout",
          "output_type": "stream",
          "text": [
            "Istalgan butun son kiriting: 45\n",
            "45 soni 3 ga qoldiqsiz bo'linadi\n",
            "45 soni 5 ga qoldiqsiz bo'linadi\n",
            "45 soni 9 ga qoldiqsiz bo'linadi\n"
          ]
        }
      ],
      "source": [
        "son = int(input(\"Istalgan butun son kiriting: \"))\n",
        "\n",
        "for n in range(2,11):\n",
        "    if not (son%n):\n",
        "        print(f\"{son} soni {n} ga qoldiqsiz bo'linadi\")"
      ]
    }
  ],
  "metadata": {
    "language_info": {
      "name": "python"
    },
    "colab": {
      "provenance": []
    },
    "kernelspec": {
      "name": "python3",
      "display_name": "Python 3"
    }
  },
  "nbformat": 4,
  "nbformat_minor": 0
}