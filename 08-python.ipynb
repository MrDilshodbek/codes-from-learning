{
  "cells": [
    {
      "cell_type": "markdown",
      "metadata": {
        "id": "A1CgZ-XWcHQj"
      },
      "source": [
        "# 08-DARS. RO'YXATLAR BILAN ISHLASH\n",
        "\n",
        "Ro'yxatlarning ustida turli amallar bajarishni o'rganamiz"
      ]
    },
    {
      "cell_type": "markdown",
      "metadata": {
        "id": "KbxhksRScHQl"
      },
      "source": [
        "![](https://gblobscdn.gitbook.com/assets%2F-MGbkqs1tROquIT6oqUs%2F-Mc-5yGQPZTBaGoehQdL%2F-Mc-7xpq4Puu3KEjmT0R%2FSD_YT_TG_logo_mini.png?alt=media&token=929fe67b-ec12-4f63-b33e-e9c5e3d8ad09)"
      ]
    },
    {
      "cell_type": "markdown",
      "metadata": {
        "id": "OIQ19ncTcHQl"
      },
      "source": [
        "# RO'YXATNI TARTIBLASH"
      ]
    },
    {
      "cell_type": "markdown",
      "metadata": {
        "id": "GE54iRvicHQm"
      },
      "source": [
        "Aksar holatlarda ro'yxat ichidagi elementlarni alifbo ketma-ketligida tartiblash talab qilinishi mumkin. Buning uchun list uchun maxsus **`.sort()`** metodidan foydalanamiz."
      ]
    },
    {
      "cell_type": "code",
      "execution_count": null,
      "metadata": {
        "id": "oyMLSknmcHQn",
        "outputId": "501a36ad-de53-4882-9e51-12c117acc432"
      },
      "outputs": [
        {
          "name": "stdout",
          "output_type": "stream",
          "text": [
            "['audi', 'bmw', 'general motors', 'mercedes benz', 'tesla', 'volvo']\n"
          ]
        }
      ],
      "source": [
        "cars = ['bmw','mercedes benz', 'volvo', 'general motors', 'tesla', 'audi']\n",
        "cars.sort()\n",
        "print(cars)"
      ]
    },
    {
      "cell_type": "markdown",
      "metadata": {
        "id": "6tTR2hlkcHQo"
      },
      "source": [
        "Kurib turibsiz, yuqoridagi ro'yxatimiz alifbo bo'yicha tartiblandi."
      ]
    },
    {
      "cell_type": "markdown",
      "metadata": {
        "id": "dIf5gEovcHQp"
      },
      "source": [
        "> **Diqqat!** Tartiblashda katta harflar kichik harflardan avval kelishini hisobga oling. Agar matndagi so'zlarning bosh harfi katta-kichik aralash yozilgan bo'lsa, ularni bir ko'rinishga keltirib olish maqsadga muvofiq bo'ladi."
      ]
    },
    {
      "cell_type": "code",
      "execution_count": null,
      "metadata": {
        "id": "tYlrBIjtcHQp",
        "outputId": "f8d379a2-7d2f-4873-d7c4-93679932b4b0"
      },
      "outputs": [
        {
          "name": "stdout",
          "output_type": "stream",
          "text": [
            "['Bmw', 'audi', 'gm', 'mercedes benz', 'tesla', 'volvo']\n"
          ]
        }
      ],
      "source": [
        "cars = ['Bmw','mercedes benz', 'volvo', 'gm', 'tesla', 'audi']\n",
        "cars.sort()\n",
        "print(cars)"
      ]
    },
    {
      "cell_type": "markdown",
      "metadata": {
        "id": "Tl6WJFFEcHQq"
      },
      "source": [
        "Yuqoridagi misolda `'Bmw'` elementi katta harf bilan boshlangani uchun ro'yxatning boshidan joy oldi.\n",
        "\n",
        "Ro'yxatni teskari tartibda saqlash uchun `.sort()` metodi ichida `reverse=True` argumentini ham kiritamiz."
      ]
    },
    {
      "cell_type": "code",
      "execution_count": null,
      "metadata": {
        "id": "QITs2Yn0cHQr",
        "outputId": "b995c4fc-872f-487e-e83d-169a39be691b"
      },
      "outputs": [
        {
          "name": "stdout",
          "output_type": "stream",
          "text": [
            "['volvo', 'tesla', 'mercedes benz', 'general motors', 'bmw', 'audi']\n"
          ]
        }
      ],
      "source": [
        "cars = ['bmw','mercedes benz', 'volvo', 'general motors', 'tesla', 'audi']\n",
        "cars.sort(reverse=True)\n",
        "print(cars)"
      ]
    },
    {
      "cell_type": "markdown",
      "metadata": {
        "id": "0KqsxS5xcHQr"
      },
      "source": [
        "`.sort()` metodi ro'yxatni tartiblaydi. Ba'zida asl ro'yxat ichidagi elementlarning ketma-ketligini buzmagan holda ro'yxatni tartiblash talab qilinishi mumkin. Buning uchun **`sorted()`** funktsiyasidan foydalanamiz:"
      ]
    },
    {
      "cell_type": "code",
      "execution_count": null,
      "metadata": {
        "id": "kFYttkeycHQr",
        "outputId": "761d2461-f194-49f5-a6de-761d3791f1ff"
      },
      "outputs": [
        {
          "name": "stdout",
          "output_type": "stream",
          "text": [
            "sorted() qaytargan ro'yxat: ['Avazbek', 'Farruh', 'Hamid', 'Odil', 'Shamsiddin', 'Temur']\n",
            "Asl ro'yxat o'zgarmas qoldi: ['Odil', 'Hamid', 'Temur', 'Avazbek', 'Farruh', 'Shamsiddin']\n"
          ]
        }
      ],
      "source": [
        "mehmonlar = ['Odil', 'Hamid', 'Temur', 'Avazbek', 'Farruh', 'Shamsiddin']\n",
        "print(\"sorted() qaytargan ro'yxat:\", sorted(mehmonlar))\n",
        "print(\"Asl ro'yxat o'zgarmas qoldi:\", mehmonlar)"
      ]
    },
    {
      "cell_type": "markdown",
      "metadata": {
        "id": "1Vud3nd7cHQs"
      },
      "source": [
        "`sorted()` funktsiyasi yordamida teskari tartiblash uchun ham `reverse=True` argumentini beramiz:"
      ]
    },
    {
      "cell_type": "code",
      "execution_count": null,
      "metadata": {
        "id": "P1QPhxhUcHQs",
        "outputId": "dff140a7-4d49-414d-e1c4-76f5754dc800"
      },
      "outputs": [
        {
          "name": "stdout",
          "output_type": "stream",
          "text": [
            "['Temur', 'Shamsiddin', 'Odil', 'Hamid', 'Farruh', 'Avazbek']\n"
          ]
        }
      ],
      "source": [
        "print(sorted(mehmonlar, reverse=True))"
      ]
    },
    {
      "cell_type": "markdown",
      "metadata": {
        "id": "tqTrvWw8cHQs"
      },
      "source": [
        "Yuqoridagi ikki usul bilan sonli ro'yxatlarni ham tartiblashimiz mumkin:"
      ]
    },
    {
      "cell_type": "code",
      "execution_count": null,
      "metadata": {
        "id": "R5daX39DcHQs",
        "outputId": "5a6bab06-a43b-4936-d734-370f08465ff6"
      },
      "outputs": [
        {
          "name": "stdout",
          "output_type": "stream",
          "text": [
            "[11, 12, 34, 34, 65, 76, 98]\n",
            "[98, 76, 65, 34, 34, 12, 11]\n"
          ]
        }
      ],
      "source": [
        "ages = [12, 98, 34, 65, 34, 76, 11]\n",
        "ages.sort()\n",
        "print(ages)\n",
        "print(sorted(ages, reverse=True))"
      ]
    },
    {
      "cell_type": "markdown",
      "metadata": {
        "id": "SI_-hhpGcHQs"
      },
      "source": [
        "# RO'YXATNI AYLANTIRISH"
      ]
    },
    {
      "cell_type": "markdown",
      "metadata": {
        "id": "zt_PnlEVcHQs"
      },
      "source": [
        "Ba'zida ro'yxatni aylantirish (boshini oxiriga, oxirini boshiga) talab qilinishi mumkin. Buning uchun **`.reverse()`** metodidan foydalanamiz."
      ]
    },
    {
      "cell_type": "code",
      "execution_count": null,
      "metadata": {
        "id": "7gP6CYXGcHQt",
        "outputId": "f4863a1f-f934-4b59-cccc-dd5f035cfdfe"
      },
      "outputs": [
        {
          "name": "stdout",
          "output_type": "stream",
          "text": [
            "['lemon', 'watermelon', 'apple', 'banana', 'pear']\n"
          ]
        }
      ],
      "source": [
        "fruits = ['pear','banana','apple','watermelon','lemon']\n",
        "fruits.reverse()\n",
        "print(fruits)"
      ]
    },
    {
      "cell_type": "markdown",
      "metadata": {
        "id": "PP8kiVhAcHQt"
      },
      "source": [
        "Natija va asl ro'yxatni solishtiring."
      ]
    },
    {
      "cell_type": "markdown",
      "metadata": {
        "id": "LzH18UpJcHQt"
      },
      "source": [
        "# RO'YXATNING UZUNLIGINI BILISH"
      ]
    },
    {
      "cell_type": "markdown",
      "metadata": {
        "id": "zb33ypdncHQt"
      },
      "source": [
        "Ro'yxatning uzunligi, ya'ni uning ichidagi elementlar sonini aniqlash uchun **`len()`** funktsiyasidan foydalanamiz:"
      ]
    },
    {
      "cell_type": "code",
      "execution_count": null,
      "metadata": {
        "id": "JGqgG60IcHQt",
        "outputId": "5580244c-029d-4a24-e4a1-210bb8aeb05f"
      },
      "outputs": [
        {
          "name": "stdout",
          "output_type": "stream",
          "text": [
            "Elementlar soni: 5\n"
          ]
        }
      ],
      "source": [
        "fruits = ['pear','banana','apple','watermelon','lemon']\n",
        "print(\"Elementlar soni:\",len(fruits)) # len(fruits) ro'yxat uzunligini qaytaradi"
      ]
    },
    {
      "cell_type": "markdown",
      "metadata": {
        "id": "VHibvg-6cHQt"
      },
      "source": [
        "# **`range()`** FUNKTSIYASI\n"
      ]
    },
    {
      "cell_type": "markdown",
      "metadata": {
        "id": "3xgj8A7IcHQt"
      },
      "source": [
        "Bu funktsiya yordamida biz ma'lum oraliqdagi sonlar ketma-ketligini yaratishimiz mumkin. **`list()`** funktsiyasi yordamida esa bu oraliqni ro'yxat shaklida saqlab olamiz:"
      ]
    },
    {
      "cell_type": "code",
      "execution_count": null,
      "metadata": {
        "id": "GXSUVdK-cHQu",
        "outputId": "56ae5750-d456-41d5-e8f8-c28d15968af4"
      },
      "outputs": [
        {
          "name": "stdout",
          "output_type": "stream",
          "text": [
            "[0, 1, 2, 3, 4, 5, 6, 7, 8, 9]\n"
          ]
        }
      ],
      "source": [
        "sonlar = list(range(0,10)) #\n",
        "print(sonlar)"
      ]
    },
    {
      "cell_type": "markdown",
      "metadata": {
        "id": "5dPnGwypcHQu"
      },
      "source": [
        "Yuqoridagi misolda `range(0,10)` funktsiyasi 0 dan 9 gacha sonlar ketma-ketligini shakllantirdi, `list(range(0,9))` esa bu ketma-ketlikni ro'yxatga aylantirdi."
      ]
    },
    {
      "cell_type": "markdown",
      "metadata": {
        "id": "6w6wh_0acHQu"
      },
      "source": [
        "> **Diqqat!** E'tibor qiling `range()` funktsiyasi ikkinchi indeksdan bitta avval to'xtaydi."
      ]
    },
    {
      "cell_type": "markdown",
      "metadata": {
        "id": "A_GI2ai9cHQu"
      },
      "source": [
        "`range()` yordamida qadamni ham berishimiz mumkin:"
      ]
    },
    {
      "cell_type": "code",
      "execution_count": null,
      "metadata": {
        "id": "xNliE1WEcHQu",
        "outputId": "f069fd09-bc3c-4f11-b217-f321dece0473"
      },
      "outputs": [
        {
          "name": "stdout",
          "output_type": "stream",
          "text": [
            "Juft sonlar:  [0, 2, 4, 6, 8, 10, 12, 14, 16, 18]\n",
            "Toq sonlar:  [1, 3, 5, 7, 9, 11, 13, 15, 17, 19]\n"
          ]
        }
      ],
      "source": [
        "juft_sonlar = list(range(0,20,2)) # 0 dan 20 gacha 2 qadam bilan\n",
        "toq_sonlar = list(range(1,20,2))  # 1 dan 20 gacha 2 qadam bilan\n",
        "print(\"Juft sonlar: \", juft_sonlar)\n",
        "print(\"Toq sonlar: \", toq_sonlar)"
      ]
    },
    {
      "cell_type": "markdown",
      "metadata": {
        "id": "WiG14v_IcHQu"
      },
      "source": [
        "> Agar sonlar ketma-ketligi 0 dan boshlansa, `range()` funktsiyasida yakuniy indeksni ko'rsatish kifoya. Misol uchun `range(0,10)` emas `range(10)` deb yozsak ham bo'laveradi."
      ]
    },
    {
      "cell_type": "markdown",
      "metadata": {
        "id": "P4C_sm5mcHQv"
      },
      "source": [
        "# SONLI RO'YXAT USTIDA SODDA AMALLAR\n"
      ]
    },
    {
      "cell_type": "markdown",
      "metadata": {
        "id": "BNWysR2fcHQv"
      },
      "source": [
        "Pythonda ro'yxatlar ustida ba'zi sodda amallarni ham bajarish mumkin. Misol uchun ro'yxatdagi eng kichik sonni topish uchun `min()` funktsiyasidan, eng katta sonni topish uchun esa `max()` funktsiyasidan, sonlarning yig'indisini topish uchun esa `sum()` funktsyasidan foydalansak bo'ladi:"
      ]
    },
    {
      "cell_type": "code",
      "execution_count": null,
      "metadata": {
        "id": "JYKLQmrFcHQv",
        "outputId": "2cf07507-907d-4b13-d2aa-8236e4f72c07"
      },
      "outputs": [
        {
          "name": "stdout",
          "output_type": "stream",
          "text": [
            "Eng arzon narh  5600 . Eng qimmati  32874 . Jami:  116164\n"
          ]
        }
      ],
      "source": [
        "narhlar = [12000, 22500, 23456, 9800, 5600, 9934, 32874]\n",
        "arzon = min(narhlar)\n",
        "qimmat = max(narhlar)\n",
        "jami = sum(narhlar)\n",
        "print(\"Eng arzon narh \", arzon, \". Eng qimmati \", qimmat, \". Jami: \", jami)"
      ]
    },
    {
      "cell_type": "markdown",
      "metadata": {
        "id": "TDpvFEolcHQv"
      },
      "source": [
        "# RO'YXATNI KESISH\n"
      ]
    },
    {
      "cell_type": "markdown",
      "metadata": {
        "id": "iJ4yc2s-cHQv"
      },
      "source": [
        "Ba'zida ro'yxatning ma'lum bir bo'lagini ajratib olish talab qilinishi mumkin, deylik biz quyidagi cars degan ro'yxatdan birinchi 3 ta elementni ajratib olmoqchimiz, buning uchun biz boshlang'ich va oxirgi indekslarni beramiz:"
      ]
    },
    {
      "cell_type": "code",
      "execution_count": null,
      "metadata": {
        "id": "lz2g1UXncHQv",
        "outputId": "7b2ff0ec-cd04-4dac-b114-c27dc655c6d9"
      },
      "outputs": [
        {
          "name": "stdout",
          "output_type": "stream",
          "text": [
            "['bmw', 'mercedes benz', 'volvo']\n"
          ]
        }
      ],
      "source": [
        "cars = ['bmw','mercedes benz', 'volvo', 'general motors', 'tesla', 'audi']\n",
        "my_cars = cars[0:3] # 0-indeskdan boshlab 3 ta element ajratib olamiz\n",
        "print(my_cars)"
      ]
    },
    {
      "cell_type": "markdown",
      "metadata": {
        "id": "ukSBkP2_cHQv"
      },
      "source": [
        "> **Diqqat!** Python 2-indeksdan bitta avval to'xtaydi. Yuqoridagi misolda ham 0,1,2-elementlar ajratib olindi."
      ]
    },
    {
      "cell_type": "markdown",
      "metadata": {
        "id": "jioL3XmccHQw"
      },
      "source": [
        "Bu usul bilan ro'yxatning istalgan joyidan bo'lishimiz mumkin:\n"
      ]
    },
    {
      "cell_type": "code",
      "execution_count": null,
      "metadata": {
        "id": "_kJydRvfcHQ0",
        "outputId": "55eaf7b4-7a38-4a73-8254-bab57f35654e"
      },
      "outputs": [
        {
          "name": "stdout",
          "output_type": "stream",
          "text": [
            "['volvo', 'general motors', 'tesla']\n"
          ]
        }
      ],
      "source": [
        "print(cars[2:5]) # 2-3-4-elementlarni ajratib olamiz (5 kirmaydi)"
      ]
    },
    {
      "cell_type": "markdown",
      "metadata": {
        "id": "aK9uewhccHQ0"
      },
      "source": [
        "Agar boshlang'ich indeksni bermasangiz, Python avtomat ravishda 0 indeksdan boshlab kesadi. Agar 2-indeksni kiritmasangiz, ro'yxat oxirigacha kesadi:"
      ]
    },
    {
      "cell_type": "code",
      "execution_count": null,
      "metadata": {
        "id": "O0KjT00hcHQ0",
        "outputId": "e1169e54-6888-45a7-ffc1-199523981e18"
      },
      "outputs": [
        {
          "name": "stdout",
          "output_type": "stream",
          "text": [
            "['bmw', 'mercedes benz', 'volvo', 'general motors']\n",
            "['volvo', 'general motors', 'tesla', 'audi']\n"
          ]
        }
      ],
      "source": [
        "print(cars[:4]) # Ro'yxat boshidan 4-gacha kesadi (0,1,2,3)\n",
        "print(cars[2:]) # 2-elementdan boshlab ro'yxat oxirigacha kesib oladi"
      ]
    },
    {
      "cell_type": "markdown",
      "metadata": {
        "id": "L2P4O50lcHQ1"
      },
      "source": [
        "# RO'YXATDAN NUSXA OLISH"
      ]
    },
    {
      "cell_type": "markdown",
      "metadata": {
        "id": "Z8lnVgBUcHQ1"
      },
      "source": [
        "Dastur davomida biror ro'yxatdan nusxa olish talab qilinishi mumkin. Buning uchun biz tenglik(`=`) belgisidan foydalansak bo'ladimi? Quyidagi misolga e'tibor bering:"
      ]
    },
    {
      "cell_type": "code",
      "execution_count": null,
      "metadata": {
        "id": "YTzBdYHzcHQ1",
        "outputId": "fce39bd8-36ae-4d26-8608-9ac41cd444a0"
      },
      "outputs": [
        {
          "name": "stdout",
          "output_type": "stream",
          "text": [
            "Bu sonlar ro'yxati: [1, 2, 3, 4, 5, 6, 7]\n",
            "Bu sonlar2 ro'yxati: [1, 2, 3, 4, 5, 6, 7]\n"
          ]
        }
      ],
      "source": [
        "sonlar = [1, 2, 3, 4, 5] # donlar degan ro'yxat yaratamiz\n",
        "sonlar2 = sonlar # sonlar2 degan ro'yxatni sonlar ga tenglaymiz\n",
        "sonlar2.append(6) # sonlar2 ga 6 sonini qo'shamiz\n",
        "sonlar2.append(7) # sonlar2 ga 7 sonini qo'shamiz\n",
        "print(\"Bu sonlar ro'yxati:\", sonlar)\n",
        "print(\"Bu sonlar2 ro'yxati:\", sonlar2)"
      ]
    },
    {
      "cell_type": "markdown",
      "metadata": {
        "id": "WDWwvYvpcHQ1"
      },
      "source": [
        "Natija biz kutgandek chiqdimi? Yo'q. Biz 6 va 7 sonlarini `sonlar2` degan ro'yxatga qo'shgan edik, lekin bu ikki son `sonlar` degan asl ro'yxatga ham qo'shilib qoldi.\n",
        "\n",
        "Demak yuqorida biz `sonlar2=sonlar` deb yozgan komandamiz yangi ro'yxat yaratish o'rniga, ikkala o'zgaruvchini ham bitta ro'yxatga bog'lab (yo'naltirib) qo'ydi. Biz `sonlar` yoki `sonlar2` ustida bajargan amallarimiz aslida bitta ro'yxat ustida bajarilyapti.\n",
        "\n",
        "![](https://gblobscdn.gitbook.com/assets%2F-MGbkqs1tROquIT6oqUs%2F-MMJGzmHuPgjikKMOl0R%2F-MMJv_JeF1G7uIfp5RRc%2Fimage.png?alt=media&token=6f5d1db7-57d6-4ef3-983d-5fe640b44435)\n",
        "\n",
        "Unda, qanday qilib ro'yxatdan nusxa olamiz? Buning uchun yuoqirdagi ka'bi ro'yxatni kesish usulidan foydalanamiz. Faqatgina, kvadrat qavs ichida ikkala indeksni ham ko'rsatmasdan, bo'sh qoldiramiz:"
      ]
    },
    {
      "cell_type": "code",
      "execution_count": null,
      "metadata": {
        "id": "bItNEpa7cHQ1",
        "outputId": "8447d0bb-7b5a-4a4c-f7d2-eb6b919b39e5"
      },
      "outputs": [
        {
          "name": "stdout",
          "output_type": "stream",
          "text": [
            "Bu sonlar ro'yxati: [1, 2, 3, 4, 5]\n",
            "Bu sonlar2 ro'yxati: [1, 2, 3, 4, 5, 6, 7]\n"
          ]
        }
      ],
      "source": [
        "sonlar = [1, 2, 3, 4, 5] # donlar degan ro'yxat yaratamiz\n",
        "sonlar2 = sonlar[:] # [:] ro'yxatni to'liq ko'chirib oladi\n",
        "sonlar2.append(6) # sonlar2 ga 6 sonini qo'shamiz\n",
        "sonlar2.append(7) # sonlar2 ga 7 sonini qo'shamiz\n",
        "print(\"Bu sonlar ro'yxati:\", sonlar)\n",
        "print(\"Bu sonlar2 ro'yxati:\", sonlar2)"
      ]
    },
    {
      "cell_type": "markdown",
      "metadata": {
        "id": "rzSVAuoNcHQ1"
      },
      "source": [
        "# TUPLES - O'ZGARMAS RO'YXAT"
      ]
    },
    {
      "cell_type": "markdown",
      "metadata": {
        "id": "Oug9bRvpcHQ2"
      },
      "source": [
        "Dastur yaratish davomida o'zgarmas ro'yxat tuzish talab qilinishi mumkin. Pythonda bunday ro'yxatlar **tuples** deb yuritiladi. Tuple ichidagi qiymatlarni bir marta, dastur boshida beriladi va so'ngra o'zgartirib bo'lmaydi. List dan farqli ravishda, Tuple e'lon qilishda kvadrat qavslar `[]` o'rniga oddiy qavslar `()` ishlatiladi:\n"
      ]
    },
    {
      "cell_type": "code",
      "execution_count": null,
      "metadata": {
        "id": "_5EPk28YcHQ2",
        "outputId": "5bb20b0b-c781-4b7d-b3a7-e8fbed8383d0"
      },
      "outputs": [
        {
          "name": "stdout",
          "output_type": "stream",
          "text": [
            "(20, 30, 55.2)\n"
          ]
        }
      ],
      "source": [
        "tomonlar = (20, 30, 55.2)\n",
        "print(tomonlar)"
      ]
    },
    {
      "cell_type": "markdown",
      "metadata": {
        "id": "WD2_XycrcHQ2"
      },
      "source": [
        "Tuple ichidagi elementlarga huddi ro'yxat elementlariga murojat qilingani kabi murojat qilinaveradi:"
      ]
    },
    {
      "cell_type": "code",
      "execution_count": null,
      "metadata": {
        "id": "lkVwqeyFcHQ2",
        "outputId": "27ecb748-ba47-473b-dc64-d3164abb6126"
      },
      "outputs": [
        {
          "name": "stdout",
          "output_type": "stream",
          "text": [
            "bus\n",
            "lizard\n",
            "('bear', 'dino', 'snake')\n"
          ]
        }
      ],
      "source": [
        "toys = ('bus','car','bear','dino','snake','lizard')\n",
        "print(toys[0])\n",
        "print(toys[-1])\n",
        "print(toys[2:5])"
      ]
    },
    {
      "cell_type": "markdown",
      "metadata": {
        "id": "_avyMyXccHQ2"
      },
      "source": [
        "Keling Tuple ichidagi biror elementning qiymatini o'zgartirib ko'ramiz:"
      ]
    },
    {
      "cell_type": "code",
      "execution_count": null,
      "metadata": {
        "id": "I6g0OlSGcHQ3",
        "outputId": "7df345d1-c0db-4409-81db-21c455c76304"
      },
      "outputs": [
        {
          "ename": "TypeError",
          "evalue": "'tuple' object does not support item assignment",
          "output_type": "error",
          "traceback": [
            "\u001b[0;31m---------------------------------------------------------------------------\u001b[0m",
            "\u001b[0;31mTypeError\u001b[0m                                 Traceback (most recent call last)",
            "\u001b[0;32m<ipython-input-22-0e8694a5bec6>\u001b[0m in \u001b[0;36m<module>\u001b[0;34m\u001b[0m\n\u001b[1;32m      1\u001b[0m \u001b[0mtoys\u001b[0m \u001b[0;34m=\u001b[0m \u001b[0;34m(\u001b[0m\u001b[0;34m'bus'\u001b[0m\u001b[0;34m,\u001b[0m\u001b[0;34m'car'\u001b[0m\u001b[0;34m,\u001b[0m\u001b[0;34m'bear'\u001b[0m\u001b[0;34m,\u001b[0m\u001b[0;34m'dino'\u001b[0m\u001b[0;34m,\u001b[0m\u001b[0;34m'snake'\u001b[0m\u001b[0;34m,\u001b[0m\u001b[0;34m'lizard'\u001b[0m\u001b[0;34m)\u001b[0m\u001b[0;34m\u001b[0m\u001b[0;34m\u001b[0m\u001b[0m\n\u001b[0;32m----> 2\u001b[0;31m \u001b[0mtoys\u001b[0m\u001b[0;34m[\u001b[0m\u001b[0;36m3\u001b[0m\u001b[0;34m]\u001b[0m \u001b[0;34m=\u001b[0m \u001b[0;34m'dragon'\u001b[0m\u001b[0;34m\u001b[0m\u001b[0;34m\u001b[0m\u001b[0m\n\u001b[0m",
            "\u001b[0;31mTypeError\u001b[0m: 'tuple' object does not support item assignment"
          ]
        }
      ],
      "source": [
        "toys = ('bus','car','bear','dino','snake','lizard')\n",
        "toys[3] = 'dragon'"
      ]
    },
    {
      "cell_type": "markdown",
      "metadata": {
        "id": "uoyTakOGcHQ3"
      },
      "source": [
        "Demak yuqorida ko'rib turganingiz kabi, bu operatsiya xatolikka olib keldi. Shu kabi ro'yxatdan biror elementni o'chirish yoki yangi element qo'shish ham mumkin emas.\n",
        "\n",
        "Agar Tuple ga o'zgartirish talab qilinsa, yagona yo'li o'zgarmas ro'yxatni `list()` funktsiyasi yordamida List (oddiy ro'yxat) ko'rinishiga keltirib olish, o'zgarishlarni bajarsih va qaytarib `tuple()` funktsiyasi yordamida o'zgarmas ro'yxatga o'tkazish mumkin:"
      ]
    },
    {
      "cell_type": "code",
      "execution_count": null,
      "metadata": {
        "id": "mdOMxT_4cHQ3",
        "outputId": "c122e452-fa05-49b5-a3eb-aa38e233f980"
      },
      "outputs": [
        {
          "name": "stdout",
          "output_type": "stream",
          "text": [
            "('car', 'mcqueen', 'dino', 'snake', 'lizard', 'dragon')\n"
          ]
        }
      ],
      "source": [
        "toys = ('bus','car','bear','dino','snake','lizard') # o'zgarmas ro'yxat\n",
        "toys = list(toys) # o'zgarmas ro'yxatni oddiy ro'yxatga (List) aylantiramiz\n",
        "# Ro'yxatga o'zgartirishlar kiritamiz\n",
        "toys.append('dragon')\n",
        "toys.remove('bus')\n",
        "toys[1] = 'mcqueen'\n",
        "toys = tuple(toys) # Ro'yxatni qaytadan o'zgarmas ro'yxatga (Tuple) aylantiramiz\n",
        "print(toys)"
      ]
    },
    {
      "cell_type": "markdown",
      "metadata": {
        "id": "5fpItaP2cHQ3"
      },
      "source": [
        "# AMALIYOT"
      ]
    },
    {
      "cell_type": "code",
      "source": [
        "davlatlar = ['Germany', 'France', 'Malaysia', 'Uzbekistan']\n",
        "print(davlatlar)\n",
        "print(len(davlatlar))"
      ],
      "metadata": {
        "id": "Md2NoslBc2NV",
        "outputId": "c52021b6-bb91-41d7-f791-9bcfaf9a649d",
        "colab": {
          "base_uri": "https://localhost:8080/"
        }
      },
      "execution_count": 9,
      "outputs": [
        {
          "output_type": "stream",
          "name": "stdout",
          "text": [
            "['Germany', 'France', 'Malaysia', 'Uzbekistan']\n",
            "4\n"
          ]
        }
      ]
    },
    {
      "cell_type": "code",
      "source": [
        "print(sorted(davlatlar))\n",
        "print(sorted(davlatlar, reverse=True))\n",
        "print(davlatlar)"
      ],
      "metadata": {
        "id": "HfY8KUkhdFYJ",
        "outputId": "48295674-fbb8-4170-bdcc-170e2c8d616d",
        "colab": {
          "base_uri": "https://localhost:8080/"
        }
      },
      "execution_count": 14,
      "outputs": [
        {
          "output_type": "stream",
          "name": "stdout",
          "text": [
            "['France', 'Germany', 'Malaysia', 'Uzbekistan']\n",
            "['Uzbekistan', 'Malaysia', 'Germany', 'France']\n",
            "['Germany', 'France', 'Malaysia', 'Uzbekistan']\n"
          ]
        }
      ]
    },
    {
      "cell_type": "code",
      "source": [
        "davlatlar.reverse()\n",
        "print(davlatlar)"
      ],
      "metadata": {
        "id": "C4X0NPBWdzuE",
        "outputId": "59e5260f-784f-4537-ae60-170c567c5c5c",
        "colab": {
          "base_uri": "https://localhost:8080/"
        }
      },
      "execution_count": 16,
      "outputs": [
        {
          "output_type": "stream",
          "name": "stdout",
          "text": [
            "['Uzbekistan', 'Malaysia', 'France', 'Germany']\n"
          ]
        }
      ]
    },
    {
      "cell_type": "code",
      "source": [
        "davlatlar.sort()\n",
        "print(davlatlar)\n",
        "print(davlatlar.reverse)"
      ],
      "metadata": {
        "id": "DEFUBsHLeTTd",
        "outputId": "21545bcb-bffd-4752-c1d1-2e17a23f0920",
        "colab": {
          "base_uri": "https://localhost:8080/"
        }
      },
      "execution_count": 21,
      "outputs": [
        {
          "output_type": "stream",
          "name": "stdout",
          "text": [
            "['France', 'Germany', 'Malaysia', 'Uzbekistan']\n",
            "None\n"
          ]
        }
      ]
    },
    {
      "cell_type": "code",
      "source": [
        "sonlar = list(range(120, 1200, 2))\n",
        "print(sonlar)"
      ],
      "metadata": {
        "id": "4leHncQYewQv",
        "outputId": "356a4f9c-df53-4714-b486-a98b6ed6f6b5",
        "colab": {
          "base_uri": "https://localhost:8080/"
        }
      },
      "execution_count": 22,
      "outputs": [
        {
          "output_type": "stream",
          "name": "stdout",
          "text": [
            "[120, 122, 124, 126, 128, 130, 132, 134, 136, 138, 140, 142, 144, 146, 148, 150, 152, 154, 156, 158, 160, 162, 164, 166, 168, 170, 172, 174, 176, 178, 180, 182, 184, 186, 188, 190, 192, 194, 196, 198, 200, 202, 204, 206, 208, 210, 212, 214, 216, 218, 220, 222, 224, 226, 228, 230, 232, 234, 236, 238, 240, 242, 244, 246, 248, 250, 252, 254, 256, 258, 260, 262, 264, 266, 268, 270, 272, 274, 276, 278, 280, 282, 284, 286, 288, 290, 292, 294, 296, 298, 300, 302, 304, 306, 308, 310, 312, 314, 316, 318, 320, 322, 324, 326, 328, 330, 332, 334, 336, 338, 340, 342, 344, 346, 348, 350, 352, 354, 356, 358, 360, 362, 364, 366, 368, 370, 372, 374, 376, 378, 380, 382, 384, 386, 388, 390, 392, 394, 396, 398, 400, 402, 404, 406, 408, 410, 412, 414, 416, 418, 420, 422, 424, 426, 428, 430, 432, 434, 436, 438, 440, 442, 444, 446, 448, 450, 452, 454, 456, 458, 460, 462, 464, 466, 468, 470, 472, 474, 476, 478, 480, 482, 484, 486, 488, 490, 492, 494, 496, 498, 500, 502, 504, 506, 508, 510, 512, 514, 516, 518, 520, 522, 524, 526, 528, 530, 532, 534, 536, 538, 540, 542, 544, 546, 548, 550, 552, 554, 556, 558, 560, 562, 564, 566, 568, 570, 572, 574, 576, 578, 580, 582, 584, 586, 588, 590, 592, 594, 596, 598, 600, 602, 604, 606, 608, 610, 612, 614, 616, 618, 620, 622, 624, 626, 628, 630, 632, 634, 636, 638, 640, 642, 644, 646, 648, 650, 652, 654, 656, 658, 660, 662, 664, 666, 668, 670, 672, 674, 676, 678, 680, 682, 684, 686, 688, 690, 692, 694, 696, 698, 700, 702, 704, 706, 708, 710, 712, 714, 716, 718, 720, 722, 724, 726, 728, 730, 732, 734, 736, 738, 740, 742, 744, 746, 748, 750, 752, 754, 756, 758, 760, 762, 764, 766, 768, 770, 772, 774, 776, 778, 780, 782, 784, 786, 788, 790, 792, 794, 796, 798, 800, 802, 804, 806, 808, 810, 812, 814, 816, 818, 820, 822, 824, 826, 828, 830, 832, 834, 836, 838, 840, 842, 844, 846, 848, 850, 852, 854, 856, 858, 860, 862, 864, 866, 868, 870, 872, 874, 876, 878, 880, 882, 884, 886, 888, 890, 892, 894, 896, 898, 900, 902, 904, 906, 908, 910, 912, 914, 916, 918, 920, 922, 924, 926, 928, 930, 932, 934, 936, 938, 940, 942, 944, 946, 948, 950, 952, 954, 956, 958, 960, 962, 964, 966, 968, 970, 972, 974, 976, 978, 980, 982, 984, 986, 988, 990, 992, 994, 996, 998, 1000, 1002, 1004, 1006, 1008, 1010, 1012, 1014, 1016, 1018, 1020, 1022, 1024, 1026, 1028, 1030, 1032, 1034, 1036, 1038, 1040, 1042, 1044, 1046, 1048, 1050, 1052, 1054, 1056, 1058, 1060, 1062, 1064, 1066, 1068, 1070, 1072, 1074, 1076, 1078, 1080, 1082, 1084, 1086, 1088, 1090, 1092, 1094, 1096, 1098, 1100, 1102, 1104, 1106, 1108, 1110, 1112, 1114, 1116, 1118, 1120, 1122, 1124, 1126, 1128, 1130, 1132, 1134, 1136, 1138, 1140, 1142, 1144, 1146, 1148, 1150, 1152, 1154, 1156, 1158, 1160, 1162, 1164, 1166, 1168, 1170, 1172, 1174, 1176, 1178, 1180, 1182, 1184, 1186, 1188, 1190, 1192, 1194, 1196, 1198]\n"
          ]
        }
      ]
    },
    {
      "cell_type": "code",
      "source": [
        "sonlar = (sum(range(120, 1200,2)))\n",
        "print(sonlar)"
      ],
      "metadata": {
        "id": "etTVnwNve7Eg",
        "outputId": "2be5510e-4273-40de-8940-729691d4a8df",
        "colab": {
          "base_uri": "https://localhost:8080/"
        }
      },
      "execution_count": 24,
      "outputs": [
        {
          "output_type": "stream",
          "name": "stdout",
          "text": [
            "355860\n"
          ]
        }
      ]
    },
    {
      "cell_type": "code",
      "source": [
        "sonlar = range(120, 1200, 2)\n",
        "kami = min(sonlar)\n",
        "katta = max(sonlar)\n",
        "print(katta - kami)"
      ],
      "metadata": {
        "id": "orL1NRX9fOaU",
        "outputId": "caa460f9-41b7-408d-f33d-7d9e2ba0f380",
        "colab": {
          "base_uri": "https://localhost:8080/"
        }
      },
      "execution_count": 27,
      "outputs": [
        {
          "output_type": "stream",
          "name": "stdout",
          "text": [
            "1078\n"
          ]
        }
      ]
    },
    {
      "cell_type": "code",
      "source": [
        "len(sonlar)"
      ],
      "metadata": {
        "id": "abfM5GuRf66f",
        "outputId": "87585644-74df-4323-b500-6fbcfead5e59",
        "colab": {
          "base_uri": "https://localhost:8080/"
        }
      },
      "execution_count": 28,
      "outputs": [
        {
          "output_type": "execute_result",
          "data": {
            "text/plain": [
              "540"
            ]
          },
          "metadata": {},
          "execution_count": 28
        }
      ]
    },
    {
      "cell_type": "code",
      "source": [
        "taomlar = ['osh', 'somsa', 'norin', 'tandir', 'qozon kabob']\n",
        "nonushta = taomlar[:]\n",
        "nonushta.append(\"Oatmeal\")\n",
        "nonushta.remove('osh')\n",
        "print(taomlar)\n",
        "print(nonushta)"
      ],
      "metadata": {
        "id": "7cbc9I3egDHP",
        "outputId": "927efc39-24e4-45dd-ef94-eb52dde64894",
        "colab": {
          "base_uri": "https://localhost:8080/"
        }
      },
      "execution_count": 33,
      "outputs": [
        {
          "output_type": "stream",
          "name": "stdout",
          "text": [
            "['osh', 'somsa', 'norin', 'tandir', 'qozon kabob']\n",
            "['somsa', 'norin', 'tandir', 'qozon kabob', 'Oatmeal']\n"
          ]
        }
      ]
    },
    {
      "cell_type": "code",
      "source": [
        "nonushta = tuple(nonushta)\n",
        "print(nonushta)\n"
      ],
      "metadata": {
        "id": "p8KkaxADguhr",
        "outputId": "f347091f-134c-4919-e316-9cfc8098cb32",
        "colab": {
          "base_uri": "https://localhost:8080/"
        }
      },
      "execution_count": 40,
      "outputs": [
        {
          "output_type": "stream",
          "name": "stdout",
          "text": [
            "('somsa', 'norin', 'tandir', 'qozon kabob', 'Oatmeal')\n"
          ]
        }
      ]
    },
    {
      "cell_type": "code",
      "source": [
        "nonushta[0] = 'qaymoq'"
      ],
      "metadata": {
        "id": "w_DgVax0hOod",
        "outputId": "0be44d85-472c-47ef-e867-2ff3be97621d",
        "colab": {
          "base_uri": "https://localhost:8080/",
          "height": 141
        }
      },
      "execution_count": 41,
      "outputs": [
        {
          "output_type": "error",
          "ename": "TypeError",
          "evalue": "'tuple' object does not support item assignment",
          "traceback": [
            "\u001b[0;31m---------------------------------------------------------------------------\u001b[0m",
            "\u001b[0;31mTypeError\u001b[0m                                 Traceback (most recent call last)",
            "\u001b[0;32m/tmp/ipython-input-1827928306.py\u001b[0m in \u001b[0;36m<cell line: 0>\u001b[0;34m()\u001b[0m\n\u001b[0;32m----> 1\u001b[0;31m \u001b[0mnonushta\u001b[0m\u001b[0;34m[\u001b[0m\u001b[0;36m0\u001b[0m\u001b[0;34m]\u001b[0m \u001b[0;34m=\u001b[0m \u001b[0;34m'qaymoq'\u001b[0m\u001b[0;34m\u001b[0m\u001b[0;34m\u001b[0m\u001b[0m\n\u001b[0m",
            "\u001b[0;31mTypeError\u001b[0m: 'tuple' object does not support item assignment"
          ]
        }
      ]
    },
    {
      "cell_type": "markdown",
      "metadata": {
        "id": "ZeA3a_odcHQ3"
      },
      "source": [
        "- O'zingizga ma'lum davlatlarning ro'yxatini tuzing va ro'yxatni konsolga chiqaring\n",
        "- Ro'yxatning uzunligini konsolga chiqaring\n",
        "- `sorted()` funktsiyasi yordamida ro'yxatni tartiblangan holda konsolga chiqaring\n",
        "- `sorted()` yordamida ro'yxatni teskari tartibda konsolga chiqaring\n",
        "- Asl ro'yxatni qaytadan konsolga chiqaring\n",
        "- `reverse()` metodi yordamida ro'yxatni ortidan boshlab chiqaring\n",
        "- `sort()` metodi yordamida ro'yxatni avval alifbo bo'yicha, keyin esa alifboga teskari tartibda konsolga chiqaring.\n",
        "- 120 dan 1200 gacha bo'lgan juft sonlar ro'yxatini tuzing\n",
        "- Ro'yxatdagi sonlar yig'indisini hisoblang va konsolga chiqaring\n",
        "- Ro'yxatdagi eng katta va eng kichik son o'rtasidagi ayirmani hisoblang va konsolga chiqaring\n",
        "- Ro'yxatdagi elementlar sonini hisoblang\n",
        "- Ro'yxatning boshidan, o'rtasidan va oxiridan 20 ta qiymatni konsolga chiqaring\n",
        "- `taomlar` degan ro'yxat yarating va ichiga istalgan 5ta taomni kiriting\n",
        "- `nonushta` degan yangi ro'yxatga `taomlar`dan nusxa oling\n",
        "- Yangi ro'yxatda faqat nonushtaga yeyiladigan taomlarni qoldiring, va qo'shimcha 2 ta taom qo'shing\n",
        "- Ikkala ro'yxatni ham (`taomlar` va `nonushta`) konsolga chiqaring\n",
        "- Yuqoridagi nonushta ro'yxatini o'zgarmas ro'yxatga aylantiring va `nonushta[0] = \"qaymoq va non\"` deb qiymat berib ko'ring."
      ]
    },
    {
      "cell_type": "markdown",
      "metadata": {
        "id": "pAufb_SQcHQ3"
      },
      "source": [
        "# JAVOBLAR"
      ]
    },
    {
      "cell_type": "code",
      "execution_count": null,
      "metadata": {
        "id": "Sq5uET5bcHQ3",
        "outputId": "302183ee-a208-42ec-cb0c-bb9ff0b79bc3"
      },
      "outputs": [
        {
          "name": "stdout",
          "output_type": "stream",
          "text": [
            "[\"O'zbekiston\", \"Qozog'iston\", 'Rossiya', 'Malayziya', 'Singapur', 'AQSh']\n"
          ]
        }
      ],
      "source": [
        "#O'zingizga ma'lum davlatlarning ro'yxatini tuzing va ro'yxatni konsolga chiqaring\n",
        "davlatlar = [\"O'zbekiston\",\"Qozog'iston\", \"Rossiya\", \"Malayziya\", \"Singapur\", \"AQSh\"]\n",
        "print(davlatlar)"
      ]
    },
    {
      "cell_type": "code",
      "execution_count": null,
      "metadata": {
        "id": "SIvipzWrcHQ4",
        "outputId": "44a44165-cc5b-4ae5-a5ff-f123c839c809"
      },
      "outputs": [
        {
          "name": "stdout",
          "output_type": "stream",
          "text": [
            "6\n"
          ]
        }
      ],
      "source": [
        "#Ro'yxatning uzunligini konsolga chiqaring\n",
        "print(len(davlatlar))"
      ]
    },
    {
      "cell_type": "code",
      "execution_count": null,
      "metadata": {
        "id": "tk3Vs9HhcHQ4",
        "outputId": "081a2931-bf64-46ad-c87c-c4e932521387"
      },
      "outputs": [
        {
          "name": "stdout",
          "output_type": "stream",
          "text": [
            "['AQSh', 'Malayziya', \"O'zbekiston\", \"Qozog'iston\", 'Rossiya', 'Singapur']\n"
          ]
        }
      ],
      "source": [
        "#sorted() funktsiyasi yordamida ro'yxatni tartiblangan holda konsolga chiqaring\n",
        "print(sorted(davlatlar))"
      ]
    },
    {
      "cell_type": "code",
      "execution_count": null,
      "metadata": {
        "id": "53JxwEATcHQ4",
        "outputId": "66e57d95-9621-4f38-8dd2-1ac40bd9558c"
      },
      "outputs": [
        {
          "name": "stdout",
          "output_type": "stream",
          "text": [
            "['Singapur', 'Rossiya', \"Qozog'iston\", \"O'zbekiston\", 'Malayziya', 'AQSh']\n"
          ]
        }
      ],
      "source": [
        "#sorted() yordamida ro'yxatni teskari tartibda konsolga chiqaring\n",
        "print(sorted(davlatlar, reverse=True))"
      ]
    },
    {
      "cell_type": "code",
      "execution_count": null,
      "metadata": {
        "id": "x1S_LM2gcHQ4",
        "outputId": "a40137aa-095b-45bf-95fa-7ee9061546da"
      },
      "outputs": [
        {
          "name": "stdout",
          "output_type": "stream",
          "text": [
            "[\"O'zbekiston\", \"Qozog'iston\", 'Rossiya', 'Malayziya', 'Singapur', 'AQSh']\n"
          ]
        }
      ],
      "source": [
        "#Asl ro'yxatni qaytadan konsolga chiqaring\n",
        "print(davlatlar)"
      ]
    },
    {
      "cell_type": "code",
      "execution_count": null,
      "metadata": {
        "id": "mQx0aZH1cHQ4",
        "outputId": "66835373-f831-40a4-c7d4-aa4f54c5b830"
      },
      "outputs": [
        {
          "name": "stdout",
          "output_type": "stream",
          "text": [
            "['AQSh', 'Singapur', 'Malayziya', 'Rossiya', \"Qozog'iston\", \"O'zbekiston\"]\n"
          ]
        }
      ],
      "source": [
        "#reverse() metodi yordamida ro'yxatni ortidan boshlab chiqaring\n",
        "davlatlar.reverse()\n",
        "print(davlatlar)"
      ]
    },
    {
      "cell_type": "code",
      "execution_count": null,
      "metadata": {
        "id": "n0zN94xdcHQ5",
        "outputId": "cc07de93-c1be-4046-d7dc-dd7cd4536763"
      },
      "outputs": [
        {
          "name": "stdout",
          "output_type": "stream",
          "text": [
            "['AQSh', 'Malayziya', \"O'zbekiston\", \"Qozog'iston\", 'Rossiya', 'Singapur']\n",
            "['Singapur', 'Rossiya', \"Qozog'iston\", \"O'zbekiston\", 'Malayziya', 'AQSh']\n"
          ]
        }
      ],
      "source": [
        "#sort() metodi yordamida ro'yxatni avval alifbo bo'yicha, keyin esa alifboga teskari tartibda konsolga chiqaring.\n",
        "davlatlar.sort()\n",
        "print(davlatlar)\n",
        "davlatlar.sort(reverse=True)\n",
        "print(davlatlar)"
      ]
    },
    {
      "cell_type": "code",
      "execution_count": null,
      "metadata": {
        "id": "nxUbYGCicHQ5"
      },
      "outputs": [],
      "source": [
        "#120 dan 1200 gacha bo'lgan juft sonlar ro'yxatini tuzing\n",
        "sonlar = list(range(120,1200))"
      ]
    },
    {
      "cell_type": "code",
      "execution_count": null,
      "metadata": {
        "id": "MMsPA9DIcHQ5",
        "outputId": "7bf45ee8-c718-4629-a381-f25cd658579d"
      },
      "outputs": [
        {
          "name": "stdout",
          "output_type": "stream",
          "text": [
            "712260\n"
          ]
        }
      ],
      "source": [
        "#Ro'yxatdagi sonlar yig'indisini hisoblang va konsolga chiqaring\n",
        "print(sum(sonlar))"
      ]
    },
    {
      "cell_type": "code",
      "execution_count": null,
      "metadata": {
        "id": "bphuVuCGcHQ5",
        "outputId": "bade2f17-5ad5-4b14-bdbf-f4b10bb51438"
      },
      "outputs": [
        {
          "name": "stdout",
          "output_type": "stream",
          "text": [
            "1079\n"
          ]
        }
      ],
      "source": [
        "#Ro'yxatdagi eng katta va eng kichik son o'rtasidagi ayirmani hisoblang va konsolga chiqaring\n",
        "print(max(sonlar)-min(sonlar))"
      ]
    },
    {
      "cell_type": "code",
      "execution_count": null,
      "metadata": {
        "id": "OIuU7eTXcHQ5",
        "outputId": "8b45ef03-e006-4a6d-ccb4-fa16582f1c7c"
      },
      "outputs": [
        {
          "name": "stdout",
          "output_type": "stream",
          "text": [
            "1080\n"
          ]
        }
      ],
      "source": [
        "#Ro'yxatdagi elementlar sonini hisoblang\n",
        "print(len(sonlar))"
      ]
    },
    {
      "cell_type": "code",
      "execution_count": null,
      "metadata": {
        "id": "S3ganlWucHQ5",
        "outputId": "596e62e3-03bf-4dbd-ab45-81240f8c358c"
      },
      "outputs": [
        {
          "name": "stdout",
          "output_type": "stream",
          "text": [
            "[120, 121, 122, 123, 124, 125, 126, 127, 128, 129, 130, 131, 132, 133, 134, 135, 136, 137, 138, 139]\n",
            "[1180, 1181, 1182, 1183, 1184, 1185, 1186, 1187, 1188, 1189, 1190, 1191, 1192, 1193, 1194, 1195, 1196, 1197, 1198, 1199]\n",
            "[650, 651, 652, 653, 654, 655, 656, 657, 658, 659, 660, 661, 662, 663, 664, 665, 666, 667, 668, 669]\n"
          ]
        }
      ],
      "source": [
        "#Ro'yxatning boshidan, o'rtasidan va oxiridan 20 ta qiymatni konsolga chiqaring\n",
        "print(sonlar[:20])\n",
        "print(sonlar[-20:])\n",
        "print(sonlar[530:550])"
      ]
    },
    {
      "cell_type": "code",
      "execution_count": null,
      "metadata": {
        "id": "q1z_ob7qcHQ6"
      },
      "outputs": [],
      "source": [
        "#taomlar degan ro'yxat yarating va ichiga istalgan 5ta taomni kiriting\n",
        "taomlar = ['osh','somsa','norin','shashlik','qozonkabob']"
      ]
    },
    {
      "cell_type": "code",
      "execution_count": null,
      "metadata": {
        "id": "YNKHIU66cHQ6"
      },
      "outputs": [],
      "source": [
        "#nonushta degan yangi ro'yxatga taomlardan nusxa oling\n",
        "nonushta = taomlar[:]"
      ]
    },
    {
      "cell_type": "code",
      "execution_count": null,
      "metadata": {
        "id": "kymgBrODcHQ6"
      },
      "outputs": [],
      "source": [
        "#Yangi ro'yxatda faqat nonushtaga yeyiladigan taomlarni qoldiring, va qo'shimcha 2 ta taom qo'shing\n",
        "nonushta.remove('norin')\n",
        "nonushta.remove('shashlik')\n",
        "nonushta.remove('qozonkabob')\n",
        "nonushta.append('non va qaymoq')\n",
        "nonushta.append('issiq non')"
      ]
    },
    {
      "cell_type": "code",
      "execution_count": null,
      "metadata": {
        "id": "2NMKgW6bcHQ6",
        "outputId": "6867e6b2-9850-42c3-b763-0f6f22d724a0"
      },
      "outputs": [
        {
          "name": "stdout",
          "output_type": "stream",
          "text": [
            "['osh', 'somsa', 'norin', 'shashlik', 'qozonkabob']\n",
            "['osh', 'somsa', 'non va qaymoq', 'issiq non']\n"
          ]
        }
      ],
      "source": [
        "#Ikkala ro'yxatni ham (taomlar va nonushta) konsolga chiqaring\n",
        "print(taomlar)\n",
        "print(nonushta)"
      ]
    },
    {
      "cell_type": "code",
      "execution_count": null,
      "metadata": {
        "id": "eAs7z7zicHQ6",
        "outputId": "05d4bbf7-37ff-4c53-f88d-211bf066583f"
      },
      "outputs": [
        {
          "ename": "TypeError",
          "evalue": "'tuple' object does not support item assignment",
          "output_type": "error",
          "traceback": [
            "\u001b[0;31m---------------------------------------------------------------------------\u001b[0m",
            "\u001b[0;31mTypeError\u001b[0m                                 Traceback (most recent call last)",
            "\u001b[0;32m<ipython-input-41-8bc21ce4e322>\u001b[0m in \u001b[0;36m<module>\u001b[0;34m\u001b[0m\n\u001b[1;32m      1\u001b[0m \u001b[0;31m#Yuqoridagi nonushta ro'yxatini o'zgarmas ro'yxatga aylantiring va nonushta[0] = \"qaymoq va non\" deb qiymat berib ko'ring.\u001b[0m\u001b[0;34m\u001b[0m\u001b[0;34m\u001b[0m\u001b[0;34m\u001b[0m\u001b[0m\n\u001b[1;32m      2\u001b[0m \u001b[0mnonushta\u001b[0m \u001b[0;34m=\u001b[0m \u001b[0mtuple\u001b[0m\u001b[0;34m(\u001b[0m\u001b[0mnonushta\u001b[0m\u001b[0;34m)\u001b[0m\u001b[0;34m\u001b[0m\u001b[0;34m\u001b[0m\u001b[0m\n\u001b[0;32m----> 3\u001b[0;31m \u001b[0mnonushta\u001b[0m\u001b[0;34m[\u001b[0m\u001b[0;36m0\u001b[0m\u001b[0;34m]\u001b[0m \u001b[0;34m=\u001b[0m \u001b[0;34m\"qaymoq va non\"\u001b[0m\u001b[0;34m\u001b[0m\u001b[0;34m\u001b[0m\u001b[0m\n\u001b[0m",
            "\u001b[0;31mTypeError\u001b[0m: 'tuple' object does not support item assignment"
          ]
        }
      ],
      "source": [
        "#Yuqoridagi nonushta ro'yxatini o'zgarmas ro'yxatga aylantiring va nonushta[0] = \"qaymoq va non\" deb qiymat berib ko'ring.\n",
        "nonushta = tuple(nonushta)\n",
        "nonushta[0] = \"qaymoq va non\""
      ]
    }
  ],
  "metadata": {
    "language_info": {
      "name": "python"
    },
    "colab": {
      "provenance": []
    },
    "kernelspec": {
      "name": "python3",
      "display_name": "Python 3"
    }
  },
  "nbformat": 4,
  "nbformat_minor": 0
}